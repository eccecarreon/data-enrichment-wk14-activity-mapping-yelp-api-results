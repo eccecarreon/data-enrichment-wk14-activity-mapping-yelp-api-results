{
 "cells": [
  {
   "cell_type": "markdown",
   "id": "e7874dcf-7ae3-4474-9a93-a3ffe70d0f2c",
   "metadata": {},
   "source": [
    "While this assignment is optional, you can use the notebook & repository created in this practice assignment as a starting point for your first Core assignment.\n",
    "\n",
    "Follow the instructions from the previous 2 lessons to get your Yelp Fusion API credentials.\n",
    "Save them locally in a yelp-api.json file located in a \".secret/\" folder inside your user folder.\n",
    "Create a new repository with GitHub desktop.\n",
    "Load in your API credentials using the JSON module and display what keys are in the dictionary.\n",
    "DO NOT DISPLAY THE VALUES OF THIS DICTIONARY!!!\n",
    "Save, commit, and push your work to GitHub."
   ]
  },
  {
   "cell_type": "code",
   "execution_count": 3,
   "id": "8c8b774f-8c17-449f-b8de-296811a3ff3c",
   "metadata": {
    "tags": []
   },
   "outputs": [
    {
     "name": "stdout",
     "output_type": "stream",
     "text": [
      "dict_keys(['client-id', 'api-key'])\n"
     ]
    }
   ],
   "source": [
    "import json\n",
    "with open(r'C:\\Users\\ASUS TUF\\Documents\\GitHub\\data-enrichment-wk14-activity-mapping-yelp-api-results\\.secret\\yelp_api.json') as f:\n",
    "    creds = json.load(f)\n",
    "print(creds.keys())"
   ]
  }
 ],
 "metadata": {
  "kernelspec": {
   "display_name": "Python (dojo-env)",
   "language": "python",
   "name": "dojo-env"
  },
  "language_info": {
   "codemirror_mode": {
    "name": "ipython",
    "version": 3
   },
   "file_extension": ".py",
   "mimetype": "text/x-python",
   "name": "python",
   "nbconvert_exporter": "python",
   "pygments_lexer": "ipython3",
   "version": "3.10.10"
  },
  "widgets": {
   "application/vnd.jupyter.widget-state+json": {
    "state": {},
    "version_major": 2,
    "version_minor": 0
   }
  }
 },
 "nbformat": 4,
 "nbformat_minor": 5
}
