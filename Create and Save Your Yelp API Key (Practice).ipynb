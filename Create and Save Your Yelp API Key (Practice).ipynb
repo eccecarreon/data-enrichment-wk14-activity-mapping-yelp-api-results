{
 "cells": [
  {
   "cell_type": "markdown",
   "id": "e7874dcf-7ae3-4474-9a93-a3ffe70d0f2c",
   "metadata": {},
   "source": [
    "While this assignment is optional, you can use the notebook & repository created in this practice assignment as a starting point for your first Core assignment.\n",
    "\n",
    "Follow the instructions from the previous 2 lessons to get your Yelp Fusion API credentials.\n",
    "Save them locally in a yelp-api.json file located in a \".secret/\" folder inside your user folder.\n",
    "Create a new repository with GitHub desktop.\n",
    "Load in your API credentials using the JSON module and display what keys are in the dictionary.\n",
    "DO NOT DISPLAY THE VALUES OF THIS DICTIONARY!!!\n",
    "Save, commit, and push your work to GitHub."
   ]
  },
  {
   "cell_type": "code",
   "execution_count": 1,
   "id": "8c8b774f-8c17-449f-b8de-296811a3ff3c",
   "metadata": {
    "tags": []
   },
   "outputs": [
    {
     "ename": "SyntaxError",
     "evalue": "(unicode error) 'unicodeescape' codec can't decode bytes in position 2-3: truncated \\UXXXXXXXX escape (3959366415.py, line 2)",
     "output_type": "error",
     "traceback": [
      "\u001b[1;36m  Cell \u001b[1;32mIn[1], line 2\u001b[1;36m\u001b[0m\n\u001b[1;33m    with open(\"C:\\Users\\ASUS TUF\\Documents\\GitHub\\data-enrichment-wk14-activity-mapping-yelp-api-results\\.secret\\yelp_api.json.txt\") as f: #change the path to match YOUR path!!\u001b[0m\n\u001b[1;37m                                                                                                                                   ^\u001b[0m\n\u001b[1;31mSyntaxError\u001b[0m\u001b[1;31m:\u001b[0m (unicode error) 'unicodeescape' codec can't decode bytes in position 2-3: truncated \\UXXXXXXXX escape\n"
     ]
    }
   ],
   "source": [
    "import json\n",
    "with open(\"C:\\Users\\ASUS TUF\\Documents\\GitHub\\data-enrichment-wk14-activity-mapping-yelp-api-results\\.secret\\yelp_api.json.txt\") as f: #change the path to match YOUR path!!\n",
    "    login = json.load(f)\n",
    "login.keys()"
   ]
  }
 ],
 "metadata": {
  "kernelspec": {
   "display_name": "Python (dojo-env)",
   "language": "python",
   "name": "dojo-env"
  },
  "language_info": {
   "codemirror_mode": {
    "name": "ipython",
    "version": 3
   },
   "file_extension": ".py",
   "mimetype": "text/x-python",
   "name": "python",
   "nbconvert_exporter": "python",
   "pygments_lexer": "ipython3",
   "version": "3.10.10"
  },
  "widgets": {
   "application/vnd.jupyter.widget-state+json": {
    "state": {},
    "version_major": 2,
    "version_minor": 0
   }
  }
 },
 "nbformat": 4,
 "nbformat_minor": 5
}
