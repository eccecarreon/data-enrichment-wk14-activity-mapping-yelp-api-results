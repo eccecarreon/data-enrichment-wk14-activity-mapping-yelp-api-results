{
 "cells": [
  {
   "cell_type": "markdown",
   "metadata": {
    "id": "8guYh-VR7nlX"
   },
   "source": [
    "# Efficient Yelp API Calls (Core)"
   ]
  },
  {
   "cell_type": "markdown",
   "metadata": {},
   "source": [
    "## Task"
   ]
  },
  {
   "cell_type": "markdown",
   "metadata": {
    "id": "8guYh-VR7nlX"
   },
   "source": [
    "- For this assignment, you will be working with the Yelp API.\n",
    "\n",
    "- As before, you will use the Yelp API to search your favorite city for a cuisine type of your choice.\n",
    "\n",
    "- Extract all of the results from your search and compile them into one dataframe using a for loop as shown in the lesson \"Code for Efficient API Extraction\"\n",
    "\n",
    "- Save your notebook, commit the change to your repository and submit the repository URL for this assignment.\n",
    "    \n",
    "    "
   ]
  },
  {
   "cell_type": "markdown",
   "metadata": {
    "id": "8guYh-VR7nlX"
   },
   "source": [
    "## Tools You Will Use\n",
    "- Part 1:\n",
    "    - Yelp API:\n",
    "        - Getting Started: \n",
    "            - https://www.yelp.com/developers/documentation/v3/get_started\n",
    "\n",
    "    - `YelpAPI` python package\n",
    "        -  \"YelpAPI\": https://github.com/gfairchild/yelpapi"
   ]
  },
  {
   "cell_type": "markdown",
   "metadata": {},
   "source": [
    "### Applying Code From\n",
    "- Efficient API Calls Lesson Link: https://login.codingdojo.com/m/376/12529/88078"
   ]
  },
  {
   "cell_type": "code",
   "execution_count": 1,
   "metadata": {},
   "outputs": [],
   "source": [
    "# Standard Imports\n",
    "import numpy as np\n",
    "import pandas as pd\n",
    "import matplotlib.pyplot as plt\n",
    "import seaborn as sns\n",
    "\n",
    "# Additional Imports\n",
    "import os, json, math, time\n",
    "from yelpapi import YelpAPI\n",
    "from tqdm.notebook import tqdm_notebook"
   ]
  },
  {
   "cell_type": "code",
   "execution_count": 2,
   "metadata": {},
   "outputs": [],
   "source": [
    "!pip install yelpapi --quiet"
   ]
  },
  {
   "cell_type": "code",
   "execution_count": 3,
   "metadata": {},
   "outputs": [
    {
     "name": "stdout",
     "output_type": "stream",
     "text": [
      "Requirement already satisfied: yelpapi in c:\\users\\asus tuf\\anaconda3\\lib\\site-packages (2.5.1)\n",
      "Requirement already satisfied: requests in c:\\users\\asus tuf\\anaconda3\\lib\\site-packages (from yelpapi) (2.31.0)\n",
      "Requirement already satisfied: charset-normalizer<4,>=2 in c:\\users\\asus tuf\\anaconda3\\lib\\site-packages (from requests->yelpapi) (2.0.4)\n",
      "Requirement already satisfied: idna<4,>=2.5 in c:\\users\\asus tuf\\anaconda3\\lib\\site-packages (from requests->yelpapi) (3.4)\n",
      "Requirement already satisfied: urllib3<3,>=1.21.1 in c:\\users\\asus tuf\\anaconda3\\lib\\site-packages (from requests->yelpapi) (1.26.16)\n",
      "Requirement already satisfied: certifi>=2017.4.17 in c:\\users\\asus tuf\\anaconda3\\lib\\site-packages (from requests->yelpapi) (2023.7.22)\n"
     ]
    }
   ],
   "source": [
    "!pip install yelpapi"
   ]
  },
  {
   "cell_type": "code",
   "execution_count": 4,
   "metadata": {
    "tags": []
   },
   "outputs": [
    {
     "name": "stdout",
     "output_type": "stream",
     "text": [
      "Requirement already satisfied: tqdm in c:\\users\\asus tuf\\anaconda3\\lib\\site-packages (4.65.0)\n",
      "Requirement already satisfied: colorama in c:\\users\\asus tuf\\anaconda3\\lib\\site-packages (from tqdm) (0.4.6)\n"
     ]
    }
   ],
   "source": [
    "# Install tmdbsimple (only need to run once)\n",
    "!pip install tqdm"
   ]
  },
  {
   "cell_type": "markdown",
   "metadata": {
    "id": "1l3Z-79nBSX9"
   },
   "source": [
    "## 1. Registering for Required APIs"
   ]
  },
  {
   "cell_type": "markdown",
   "metadata": {
    "id": "1l3Z-79nBSX9"
   },
   "source": [
    "\n",
    "- Yelp: https://www.yelp.com/developers/documentation/v3/get_started\n"
   ]
  },
  {
   "cell_type": "markdown",
   "metadata": {},
   "source": [
    "> Check the official API documentation to know what arguments we can search for: https://www.yelp.com/developers/documentation/v3/business_search"
   ]
  },
  {
   "cell_type": "markdown",
   "metadata": {},
   "source": [
    "### Load Credentials and Create Yelp API Object"
   ]
  },
  {
   "cell_type": "code",
   "execution_count": 5,
   "metadata": {},
   "outputs": [
    {
     "name": "stdout",
     "output_type": "stream",
     "text": [
      "dict_keys(['client-id', 'api-key'])\n"
     ]
    }
   ],
   "source": [
    "import json\n",
    "with open(r'C:\\Users\\ASUS TUF\\Documents\\GitHub\\data-enrichment-wk14-activity-mapping-yelp-api-results\\.secret\\yelp_api.json') as f:\n",
    "    creds = json.load(f)\n",
    "print(creds.keys())"
   ]
  },
  {
   "cell_type": "code",
   "execution_count": 23,
   "metadata": {
    "ExecuteTime": {
     "end_time": "2022-03-25T18:20:46.629934Z",
     "start_time": "2022-03-25T18:20:45.915864Z"
    },
    "colab": {
     "base_uri": "https://localhost:8080/"
    },
    "id": "xJYqVvNkE36a",
    "outputId": "67798160-dea2-41fc-9040-2b3833efa560"
   },
   "outputs": [],
   "source": [
    "# import json\n",
    "# import os\n",
    "\n",
    "# create a relative filepath\n",
    "#relative_path = os.path.join('.secret', 'yelp_api.json')"
   ]
  },
  {
   "cell_type": "code",
   "execution_count": 24,
   "metadata": {},
   "outputs": [],
   "source": [
    "# Load API Credentials\n",
    "#with open(relative_path) as file:\n",
    "#    login = json.load(file)\n",
    "\n",
    "#print(login.keys())"
   ]
  },
  {
   "cell_type": "markdown",
   "metadata": {},
   "source": [
    "### Define Search Terms and File Paths"
   ]
  },
  {
   "cell_type": "code",
   "execution_count": 7,
   "metadata": {},
   "outputs": [],
   "source": [
    "# set our API call parameters and filename before the first call\n",
    "LOCATION = 'NY, NY'\n",
    "TERM = 'Sushi'\n",
    "\n",
    "# filename for saving the data\n",
    "# json_filename = 'yelp_search_results.json'"
   ]
  },
  {
   "cell_type": "code",
   "execution_count": 8,
   "metadata": {},
   "outputs": [
    {
     "name": "stdout",
     "output_type": "stream",
     "text": [
      "data will be saved to:C:\\Users\\ASUS TUF\\Documents\\GitHub\\data-enrichment-wk14-activity-mapping-yelp-api-results\n"
     ]
    }
   ],
   "source": [
    "## Specify fodler for saving data\n",
    "folder_path = r\"C:\\Users\\ASUS TUF\\Documents\\GitHub\\data-enrichment-wk14-activity-mapping-yelp-api-results\"\n",
    "\n",
    "# Specifying JSON_FILE filename (can include a folder)\n",
    "# JSON_FILE = None\n",
    "\n",
    "print(f'data will be saved to:{folder_path}')"
   ]
  },
  {
   "cell_type": "code",
   "execution_count": 9,
   "metadata": {},
   "outputs": [
    {
     "data": {
      "text/plain": [
       "'C:\\\\Users\\\\ASUS TUF\\\\Documents\\\\GitHub\\\\data-enrichment-wk14-activity-mapping-yelp-api-results/results_NY_Sushi.json'"
      ]
     },
     "execution_count": 9,
     "metadata": {},
     "output_type": "execute_result"
    }
   ],
   "source": [
    "# Name wthe file to save results\n",
    "JSON_FILE = r\"C:\\Users\\ASUS TUF\\Documents\\GitHub\\data-enrichment-wk14-activity-mapping-yelp-api-results/results_NY_Sushi.json\"\n",
    "JSON_FILE"
   ]
  },
  {
   "cell_type": "markdown",
   "metadata": {},
   "source": [
    "### Check if Json File exists and Create it if it doesn't"
   ]
  },
  {
   "cell_type": "code",
   "execution_count": 10,
   "metadata": {},
   "outputs": [
    {
     "name": "stdout",
     "output_type": "stream",
     "text": [
      "[i] C:\\Users\\ASUS TUF\\Documents\\GitHub\\data-enrichment-wk14-activity-mapping-yelp-api-results/results_NY_Sushi.json not found. Saving empty list to file.\n"
     ]
    }
   ],
   "source": [
    "## Check if JSON_FILE exists\n",
    "file_exists = os.path.isfile(JSON_FILE)\n",
    "\n",
    "## If it does not exist:\n",
    "if file_exists == False:\n",
    "    \n",
    "    ## CREATE ANY NEEDED FOLDERS\n",
    "    # Get the Folder Name only\n",
    "    folder = os.path.dirname(JSON_FILE)\n",
    "    \n",
    "    ## If JSON_FILE included a folder:\n",
    "    if len(folder) > 0:\n",
    "        # create the folder\n",
    "        os.makedirs(folder, exist_ok = True)\n",
    "        \n",
    "    ## INFORM USER AND SAVE EMPTY LIST\n",
    "    print(f'[i] {JSON_FILE} not found. Saving empty list to file.')\n",
    "    \n",
    "    ## save the first page of results\n",
    "    with open(JSON_FILE, 'w') as file:\n",
    "        json.dump([], file)\n",
    "        \n",
    "## If it exists, inform user\n",
    "else:\n",
    "    print(f'[i] {JSON_FILE} already exits.')"
   ]
  },
  {
   "cell_type": "markdown",
   "metadata": {},
   "source": [
    "### Load JSON FIle and account for previous results"
   ]
  },
  {
   "cell_type": "code",
   "execution_count": 11,
   "metadata": {},
   "outputs": [
    {
     "name": "stdout",
     "output_type": "stream",
     "text": [
      "- 0 previous results found.\n"
     ]
    }
   ],
   "source": [
    "## Load previous results and use len of results for offset\n",
    "with open(JSON_FILE, 'r') as file:\n",
    "    previous_results = json.load(file)\n",
    "    \n",
    "## set offset based on previous results\n",
    "n_results = len(previous_results)\n",
    "\n",
    "print(f'- {n_results} previous results found.')"
   ]
  },
  {
   "cell_type": "markdown",
   "metadata": {},
   "source": [
    "### Make the first API call to get the first page of data"
   ]
  },
  {
   "cell_type": "markdown",
   "metadata": {},
   "source": [
    "- We will use this first result to check:\n",
    "    - how many total results there are?\n",
    "    - Where is the actual data we want to save?\n",
    "    - how many results do we get at a time?\n"
   ]
  },
  {
   "cell_type": "code",
   "execution_count": 14,
   "metadata": {
    "tags": []
   },
   "outputs": [],
   "source": [
    "# Instantiate YelpAPI Variable\n",
    "yelp_api = YelpAPI(creds['api-key'], timeout_s=5.0)"
   ]
  },
  {
   "cell_type": "code",
   "execution_count": 15,
   "metadata": {},
   "outputs": [
    {
     "data": {
      "text/plain": [
       "dict_keys(['businesses', 'total', 'region'])"
      ]
     },
     "execution_count": 15,
     "metadata": {},
     "output_type": "execute_result"
    }
   ],
   "source": [
    "# use our yelp_api variable's search_query method to perform our API call\n",
    "results = yelp_api.search_query(location = LOCATION,\n",
    "                                term = TERM,\n",
    "                                offset = n_results)\n",
    "\n",
    "results.keys()"
   ]
  },
  {
   "cell_type": "code",
   "execution_count": 44,
   "metadata": {
    "ExecuteTime": {
     "end_time": "2022-03-24T20:01:48.867510Z",
     "start_time": "2022-03-24T20:01:48.854746Z"
    },
    "colab": {
     "base_uri": "https://localhost:8080/"
    },
    "id": "Myur3i1KGhPf",
    "outputId": "f447c6f9-596b-41d0-ccda-50af0ce82108"
   },
   "outputs": [
    {
     "data": {
      "text/plain": [
       "110"
      ]
     },
     "execution_count": 44,
     "metadata": {},
     "output_type": "execute_result"
    }
   ],
   "source": [
    "## How many results total?\n",
    "total_results = results['total']\n",
    "\n",
    "total_results"
   ]
  },
  {
   "cell_type": "markdown",
   "metadata": {},
   "source": [
    "- Where is the actual data we want to save?"
   ]
  },
  {
   "cell_type": "code",
   "execution_count": 16,
   "metadata": {},
   "outputs": [],
   "source": [
    "business_data = results['businesses']\n",
    "\n",
    "# specify the filename where you want to save the data\n",
    "json_file_path = JSON_FILE\n",
    "\n",
    "# save the business data to a JSON file\n",
    "with open(json_file_path, 'w') as file:\n",
    "    json.dump(business_data, file, indent = 4)"
   ]
  },
  {
   "cell_type": "code",
   "execution_count": 17,
   "metadata": {},
   "outputs": [
    {
     "name": "stdout",
     "output_type": "stream",
     "text": [
      "number of results retrieved per page 20\n"
     ]
    }
   ],
   "source": [
    "## How many did we get the details for?\n",
    "results_per_page = len(business_data)\n",
    "print(f'number of results retrieved per page', results_per_page)"
   ]
  },
  {
   "cell_type": "code",
   "execution_count": 19,
   "metadata": {
    "tags": []
   },
   "outputs": [
    {
     "data": {
      "text/plain": [
       "4500"
      ]
     },
     "execution_count": 19,
     "metadata": {},
     "output_type": "execute_result"
    }
   ],
   "source": [
    "## How many results total?\n",
    "total_results = results['total']\n",
    "total_results"
   ]
  },
  {
   "cell_type": "markdown",
   "metadata": {},
   "source": [
    "- Calculate how many pages of results needed to cover the total_results"
   ]
  },
  {
   "cell_type": "code",
   "execution_count": 20,
   "metadata": {},
   "outputs": [
    {
     "name": "stdout",
     "output_type": "stream",
     "text": [
      "Total number of pages: 225\n"
     ]
    }
   ],
   "source": [
    "# Use math.ceil to round up for the total number of pages of results.\n",
    "n_pages = math.ceil(total_results / results_per_page)\n",
    "\n",
    "print(f'Total number of pages: {n_pages}')"
   ]
  },
  {
   "cell_type": "code",
   "execution_count": 21,
   "metadata": {},
   "outputs": [
    {
     "data": {
      "application/vnd.jupyter.widget-view+json": {
       "model_id": "333c0b45e93740b39726e0b3ede1c7f3",
       "version_major": 2,
       "version_minor": 0
      },
      "text/plain": [
       "  0%|          | 0/225 [00:00<?, ?it/s]"
      ]
     },
     "metadata": {},
     "output_type": "display_data"
    },
    {
     "name": "stdout",
     "output_type": "stream",
     "text": [
      "an error occured 400 Client Error: Bad Request for url: https://api.yelp.com/v3/businesses/search?location=NY%2C+NY&term=Sushi&offset=1000\n",
      "an error occured 400 Client Error: Bad Request for url: https://api.yelp.com/v3/businesses/search?location=NY%2C+NY&term=Sushi&offset=1000\n",
      "an error occured 400 Client Error: Bad Request for url: https://api.yelp.com/v3/businesses/search?location=NY%2C+NY&term=Sushi&offset=1000\n",
      "an error occured 400 Client Error: Bad Request for url: https://api.yelp.com/v3/businesses/search?location=NY%2C+NY&term=Sushi&offset=1000\n",
      "an error occured 400 Client Error: Bad Request for url: https://api.yelp.com/v3/businesses/search?location=NY%2C+NY&term=Sushi&offset=1000\n",
      "an error occured 400 Client Error: Bad Request for url: https://api.yelp.com/v3/businesses/search?location=NY%2C+NY&term=Sushi&offset=1000\n",
      "an error occured 400 Client Error: Bad Request for url: https://api.yelp.com/v3/businesses/search?location=NY%2C+NY&term=Sushi&offset=1000\n",
      "an error occured 400 Client Error: Bad Request for url: https://api.yelp.com/v3/businesses/search?location=NY%2C+NY&term=Sushi&offset=1000\n",
      "an error occured 400 Client Error: Bad Request for url: https://api.yelp.com/v3/businesses/search?location=NY%2C+NY&term=Sushi&offset=1000\n",
      "an error occured 400 Client Error: Bad Request for url: https://api.yelp.com/v3/businesses/search?location=NY%2C+NY&term=Sushi&offset=1000\n",
      "an error occured 400 Client Error: Bad Request for url: https://api.yelp.com/v3/businesses/search?location=NY%2C+NY&term=Sushi&offset=1000\n",
      "an error occured 400 Client Error: Bad Request for url: https://api.yelp.com/v3/businesses/search?location=NY%2C+NY&term=Sushi&offset=1000\n",
      "an error occured 400 Client Error: Bad Request for url: https://api.yelp.com/v3/businesses/search?location=NY%2C+NY&term=Sushi&offset=1000\n",
      "an error occured 400 Client Error: Bad Request for url: https://api.yelp.com/v3/businesses/search?location=NY%2C+NY&term=Sushi&offset=1000\n",
      "an error occured 400 Client Error: Bad Request for url: https://api.yelp.com/v3/businesses/search?location=NY%2C+NY&term=Sushi&offset=1000\n",
      "an error occured 400 Client Error: Bad Request for url: https://api.yelp.com/v3/businesses/search?location=NY%2C+NY&term=Sushi&offset=1000\n",
      "an error occured 400 Client Error: Bad Request for url: https://api.yelp.com/v3/businesses/search?location=NY%2C+NY&term=Sushi&offset=1000\n",
      "an error occured 400 Client Error: Bad Request for url: https://api.yelp.com/v3/businesses/search?location=NY%2C+NY&term=Sushi&offset=1000\n",
      "an error occured 400 Client Error: Bad Request for url: https://api.yelp.com/v3/businesses/search?location=NY%2C+NY&term=Sushi&offset=1000\n",
      "an error occured 400 Client Error: Bad Request for url: https://api.yelp.com/v3/businesses/search?location=NY%2C+NY&term=Sushi&offset=1000\n",
      "an error occured 400 Client Error: Bad Request for url: https://api.yelp.com/v3/businesses/search?location=NY%2C+NY&term=Sushi&offset=1000\n",
      "an error occured 400 Client Error: Bad Request for url: https://api.yelp.com/v3/businesses/search?location=NY%2C+NY&term=Sushi&offset=1000\n",
      "an error occured 400 Client Error: Bad Request for url: https://api.yelp.com/v3/businesses/search?location=NY%2C+NY&term=Sushi&offset=1000\n",
      "an error occured 400 Client Error: Bad Request for url: https://api.yelp.com/v3/businesses/search?location=NY%2C+NY&term=Sushi&offset=1000\n",
      "an error occured 400 Client Error: Bad Request for url: https://api.yelp.com/v3/businesses/search?location=NY%2C+NY&term=Sushi&offset=1000\n",
      "an error occured 400 Client Error: Bad Request for url: https://api.yelp.com/v3/businesses/search?location=NY%2C+NY&term=Sushi&offset=1000\n",
      "an error occured 400 Client Error: Bad Request for url: https://api.yelp.com/v3/businesses/search?location=NY%2C+NY&term=Sushi&offset=1000\n",
      "an error occured 400 Client Error: Bad Request for url: https://api.yelp.com/v3/businesses/search?location=NY%2C+NY&term=Sushi&offset=1000\n",
      "an error occured 400 Client Error: Bad Request for url: https://api.yelp.com/v3/businesses/search?location=NY%2C+NY&term=Sushi&offset=1000\n",
      "an error occured 400 Client Error: Bad Request for url: https://api.yelp.com/v3/businesses/search?location=NY%2C+NY&term=Sushi&offset=1000\n",
      "an error occured 400 Client Error: Bad Request for url: https://api.yelp.com/v3/businesses/search?location=NY%2C+NY&term=Sushi&offset=1000\n",
      "an error occured 400 Client Error: Bad Request for url: https://api.yelp.com/v3/businesses/search?location=NY%2C+NY&term=Sushi&offset=1000\n",
      "an error occured 400 Client Error: Bad Request for url: https://api.yelp.com/v3/businesses/search?location=NY%2C+NY&term=Sushi&offset=1000\n",
      "an error occured 400 Client Error: Bad Request for url: https://api.yelp.com/v3/businesses/search?location=NY%2C+NY&term=Sushi&offset=1000\n",
      "an error occured 400 Client Error: Bad Request for url: https://api.yelp.com/v3/businesses/search?location=NY%2C+NY&term=Sushi&offset=1000\n",
      "an error occured 400 Client Error: Bad Request for url: https://api.yelp.com/v3/businesses/search?location=NY%2C+NY&term=Sushi&offset=1000\n",
      "an error occured 400 Client Error: Bad Request for url: https://api.yelp.com/v3/businesses/search?location=NY%2C+NY&term=Sushi&offset=1000\n",
      "an error occured 400 Client Error: Bad Request for url: https://api.yelp.com/v3/businesses/search?location=NY%2C+NY&term=Sushi&offset=1000\n",
      "an error occured 400 Client Error: Bad Request for url: https://api.yelp.com/v3/businesses/search?location=NY%2C+NY&term=Sushi&offset=1000\n",
      "an error occured 400 Client Error: Bad Request for url: https://api.yelp.com/v3/businesses/search?location=NY%2C+NY&term=Sushi&offset=1000\n",
      "an error occured 400 Client Error: Bad Request for url: https://api.yelp.com/v3/businesses/search?location=NY%2C+NY&term=Sushi&offset=1000\n",
      "an error occured 400 Client Error: Bad Request for url: https://api.yelp.com/v3/businesses/search?location=NY%2C+NY&term=Sushi&offset=1000\n",
      "an error occured 400 Client Error: Bad Request for url: https://api.yelp.com/v3/businesses/search?location=NY%2C+NY&term=Sushi&offset=1000\n",
      "an error occured 400 Client Error: Bad Request for url: https://api.yelp.com/v3/businesses/search?location=NY%2C+NY&term=Sushi&offset=1000\n",
      "an error occured 400 Client Error: Bad Request for url: https://api.yelp.com/v3/businesses/search?location=NY%2C+NY&term=Sushi&offset=1000\n",
      "an error occured 400 Client Error: Bad Request for url: https://api.yelp.com/v3/businesses/search?location=NY%2C+NY&term=Sushi&offset=1000\n",
      "an error occured 400 Client Error: Bad Request for url: https://api.yelp.com/v3/businesses/search?location=NY%2C+NY&term=Sushi&offset=1000\n",
      "an error occured 400 Client Error: Bad Request for url: https://api.yelp.com/v3/businesses/search?location=NY%2C+NY&term=Sushi&offset=1000\n",
      "an error occured 400 Client Error: Bad Request for url: https://api.yelp.com/v3/businesses/search?location=NY%2C+NY&term=Sushi&offset=1000\n",
      "an error occured 400 Client Error: Bad Request for url: https://api.yelp.com/v3/businesses/search?location=NY%2C+NY&term=Sushi&offset=1000\n",
      "an error occured 400 Client Error: Bad Request for url: https://api.yelp.com/v3/businesses/search?location=NY%2C+NY&term=Sushi&offset=1000\n",
      "an error occured 400 Client Error: Bad Request for url: https://api.yelp.com/v3/businesses/search?location=NY%2C+NY&term=Sushi&offset=1000\n",
      "an error occured 400 Client Error: Bad Request for url: https://api.yelp.com/v3/businesses/search?location=NY%2C+NY&term=Sushi&offset=1000\n",
      "an error occured 400 Client Error: Bad Request for url: https://api.yelp.com/v3/businesses/search?location=NY%2C+NY&term=Sushi&offset=1000\n",
      "an error occured 400 Client Error: Bad Request for url: https://api.yelp.com/v3/businesses/search?location=NY%2C+NY&term=Sushi&offset=1000\n",
      "an error occured 400 Client Error: Bad Request for url: https://api.yelp.com/v3/businesses/search?location=NY%2C+NY&term=Sushi&offset=1000\n",
      "an error occured 400 Client Error: Bad Request for url: https://api.yelp.com/v3/businesses/search?location=NY%2C+NY&term=Sushi&offset=1000\n",
      "an error occured 400 Client Error: Bad Request for url: https://api.yelp.com/v3/businesses/search?location=NY%2C+NY&term=Sushi&offset=1000\n",
      "an error occured 400 Client Error: Bad Request for url: https://api.yelp.com/v3/businesses/search?location=NY%2C+NY&term=Sushi&offset=1000\n",
      "an error occured 400 Client Error: Bad Request for url: https://api.yelp.com/v3/businesses/search?location=NY%2C+NY&term=Sushi&offset=1000\n",
      "an error occured 400 Client Error: Bad Request for url: https://api.yelp.com/v3/businesses/search?location=NY%2C+NY&term=Sushi&offset=1000\n",
      "an error occured 400 Client Error: Bad Request for url: https://api.yelp.com/v3/businesses/search?location=NY%2C+NY&term=Sushi&offset=1000\n",
      "an error occured 400 Client Error: Bad Request for url: https://api.yelp.com/v3/businesses/search?location=NY%2C+NY&term=Sushi&offset=1000\n",
      "an error occured 400 Client Error: Bad Request for url: https://api.yelp.com/v3/businesses/search?location=NY%2C+NY&term=Sushi&offset=1000\n",
      "an error occured 400 Client Error: Bad Request for url: https://api.yelp.com/v3/businesses/search?location=NY%2C+NY&term=Sushi&offset=1000\n",
      "an error occured 400 Client Error: Bad Request for url: https://api.yelp.com/v3/businesses/search?location=NY%2C+NY&term=Sushi&offset=1000\n",
      "an error occured 400 Client Error: Bad Request for url: https://api.yelp.com/v3/businesses/search?location=NY%2C+NY&term=Sushi&offset=1000\n",
      "an error occured 400 Client Error: Bad Request for url: https://api.yelp.com/v3/businesses/search?location=NY%2C+NY&term=Sushi&offset=1000\n",
      "an error occured 400 Client Error: Bad Request for url: https://api.yelp.com/v3/businesses/search?location=NY%2C+NY&term=Sushi&offset=1000\n",
      "an error occured 400 Client Error: Bad Request for url: https://api.yelp.com/v3/businesses/search?location=NY%2C+NY&term=Sushi&offset=1000\n",
      "an error occured 400 Client Error: Bad Request for url: https://api.yelp.com/v3/businesses/search?location=NY%2C+NY&term=Sushi&offset=1000\n",
      "an error occured 400 Client Error: Bad Request for url: https://api.yelp.com/v3/businesses/search?location=NY%2C+NY&term=Sushi&offset=1000\n",
      "an error occured 400 Client Error: Bad Request for url: https://api.yelp.com/v3/businesses/search?location=NY%2C+NY&term=Sushi&offset=1000\n",
      "an error occured 400 Client Error: Bad Request for url: https://api.yelp.com/v3/businesses/search?location=NY%2C+NY&term=Sushi&offset=1000\n",
      "an error occured 400 Client Error: Bad Request for url: https://api.yelp.com/v3/businesses/search?location=NY%2C+NY&term=Sushi&offset=1000\n",
      "an error occured 400 Client Error: Bad Request for url: https://api.yelp.com/v3/businesses/search?location=NY%2C+NY&term=Sushi&offset=1000\n",
      "an error occured 400 Client Error: Bad Request for url: https://api.yelp.com/v3/businesses/search?location=NY%2C+NY&term=Sushi&offset=1000\n",
      "an error occured 400 Client Error: Bad Request for url: https://api.yelp.com/v3/businesses/search?location=NY%2C+NY&term=Sushi&offset=1000\n",
      "an error occured 400 Client Error: Bad Request for url: https://api.yelp.com/v3/businesses/search?location=NY%2C+NY&term=Sushi&offset=1000\n",
      "an error occured 400 Client Error: Bad Request for url: https://api.yelp.com/v3/businesses/search?location=NY%2C+NY&term=Sushi&offset=1000\n",
      "an error occured 400 Client Error: Bad Request for url: https://api.yelp.com/v3/businesses/search?location=NY%2C+NY&term=Sushi&offset=1000\n",
      "an error occured 400 Client Error: Bad Request for url: https://api.yelp.com/v3/businesses/search?location=NY%2C+NY&term=Sushi&offset=1000\n",
      "an error occured 400 Client Error: Bad Request for url: https://api.yelp.com/v3/businesses/search?location=NY%2C+NY&term=Sushi&offset=1000\n",
      "an error occured 400 Client Error: Bad Request for url: https://api.yelp.com/v3/businesses/search?location=NY%2C+NY&term=Sushi&offset=1000\n",
      "an error occured 400 Client Error: Bad Request for url: https://api.yelp.com/v3/businesses/search?location=NY%2C+NY&term=Sushi&offset=1000\n",
      "an error occured 400 Client Error: Bad Request for url: https://api.yelp.com/v3/businesses/search?location=NY%2C+NY&term=Sushi&offset=1000\n",
      "an error occured 400 Client Error: Bad Request for url: https://api.yelp.com/v3/businesses/search?location=NY%2C+NY&term=Sushi&offset=1000\n",
      "an error occured 400 Client Error: Bad Request for url: https://api.yelp.com/v3/businesses/search?location=NY%2C+NY&term=Sushi&offset=1000\n",
      "an error occured 400 Client Error: Bad Request for url: https://api.yelp.com/v3/businesses/search?location=NY%2C+NY&term=Sushi&offset=1000\n",
      "an error occured 400 Client Error: Bad Request for url: https://api.yelp.com/v3/businesses/search?location=NY%2C+NY&term=Sushi&offset=1000\n",
      "an error occured 400 Client Error: Bad Request for url: https://api.yelp.com/v3/businesses/search?location=NY%2C+NY&term=Sushi&offset=1000\n",
      "an error occured 400 Client Error: Bad Request for url: https://api.yelp.com/v3/businesses/search?location=NY%2C+NY&term=Sushi&offset=1000\n",
      "an error occured 400 Client Error: Bad Request for url: https://api.yelp.com/v3/businesses/search?location=NY%2C+NY&term=Sushi&offset=1000\n",
      "an error occured 400 Client Error: Bad Request for url: https://api.yelp.com/v3/businesses/search?location=NY%2C+NY&term=Sushi&offset=1000\n",
      "an error occured 400 Client Error: Bad Request for url: https://api.yelp.com/v3/businesses/search?location=NY%2C+NY&term=Sushi&offset=1000\n",
      "an error occured 400 Client Error: Bad Request for url: https://api.yelp.com/v3/businesses/search?location=NY%2C+NY&term=Sushi&offset=1000\n",
      "an error occured 400 Client Error: Bad Request for url: https://api.yelp.com/v3/businesses/search?location=NY%2C+NY&term=Sushi&offset=1000\n",
      "an error occured 400 Client Error: Bad Request for url: https://api.yelp.com/v3/businesses/search?location=NY%2C+NY&term=Sushi&offset=1000\n",
      "an error occured 400 Client Error: Bad Request for url: https://api.yelp.com/v3/businesses/search?location=NY%2C+NY&term=Sushi&offset=1000\n",
      "an error occured 400 Client Error: Bad Request for url: https://api.yelp.com/v3/businesses/search?location=NY%2C+NY&term=Sushi&offset=1000\n",
      "an error occured 400 Client Error: Bad Request for url: https://api.yelp.com/v3/businesses/search?location=NY%2C+NY&term=Sushi&offset=1000\n",
      "an error occured 400 Client Error: Bad Request for url: https://api.yelp.com/v3/businesses/search?location=NY%2C+NY&term=Sushi&offset=1000\n",
      "an error occured 400 Client Error: Bad Request for url: https://api.yelp.com/v3/businesses/search?location=NY%2C+NY&term=Sushi&offset=1000\n",
      "an error occured 400 Client Error: Bad Request for url: https://api.yelp.com/v3/businesses/search?location=NY%2C+NY&term=Sushi&offset=1000\n",
      "an error occured 400 Client Error: Bad Request for url: https://api.yelp.com/v3/businesses/search?location=NY%2C+NY&term=Sushi&offset=1000\n",
      "an error occured 400 Client Error: Bad Request for url: https://api.yelp.com/v3/businesses/search?location=NY%2C+NY&term=Sushi&offset=1000\n",
      "an error occured 400 Client Error: Bad Request for url: https://api.yelp.com/v3/businesses/search?location=NY%2C+NY&term=Sushi&offset=1000\n",
      "an error occured 400 Client Error: Bad Request for url: https://api.yelp.com/v3/businesses/search?location=NY%2C+NY&term=Sushi&offset=1000\n",
      "an error occured 400 Client Error: Bad Request for url: https://api.yelp.com/v3/businesses/search?location=NY%2C+NY&term=Sushi&offset=1000\n",
      "an error occured 400 Client Error: Bad Request for url: https://api.yelp.com/v3/businesses/search?location=NY%2C+NY&term=Sushi&offset=1000\n",
      "an error occured 400 Client Error: Bad Request for url: https://api.yelp.com/v3/businesses/search?location=NY%2C+NY&term=Sushi&offset=1000\n",
      "an error occured 400 Client Error: Bad Request for url: https://api.yelp.com/v3/businesses/search?location=NY%2C+NY&term=Sushi&offset=1000\n",
      "an error occured 400 Client Error: Bad Request for url: https://api.yelp.com/v3/businesses/search?location=NY%2C+NY&term=Sushi&offset=1000\n",
      "an error occured 400 Client Error: Bad Request for url: https://api.yelp.com/v3/businesses/search?location=NY%2C+NY&term=Sushi&offset=1000\n",
      "an error occured 400 Client Error: Bad Request for url: https://api.yelp.com/v3/businesses/search?location=NY%2C+NY&term=Sushi&offset=1000\n",
      "an error occured 400 Client Error: Bad Request for url: https://api.yelp.com/v3/businesses/search?location=NY%2C+NY&term=Sushi&offset=1000\n",
      "an error occured 400 Client Error: Bad Request for url: https://api.yelp.com/v3/businesses/search?location=NY%2C+NY&term=Sushi&offset=1000\n",
      "an error occured 400 Client Error: Bad Request for url: https://api.yelp.com/v3/businesses/search?location=NY%2C+NY&term=Sushi&offset=1000\n",
      "an error occured 400 Client Error: Bad Request for url: https://api.yelp.com/v3/businesses/search?location=NY%2C+NY&term=Sushi&offset=1000\n",
      "an error occured 400 Client Error: Bad Request for url: https://api.yelp.com/v3/businesses/search?location=NY%2C+NY&term=Sushi&offset=1000\n",
      "an error occured 400 Client Error: Bad Request for url: https://api.yelp.com/v3/businesses/search?location=NY%2C+NY&term=Sushi&offset=1000\n",
      "an error occured 400 Client Error: Bad Request for url: https://api.yelp.com/v3/businesses/search?location=NY%2C+NY&term=Sushi&offset=1000\n",
      "an error occured 400 Client Error: Bad Request for url: https://api.yelp.com/v3/businesses/search?location=NY%2C+NY&term=Sushi&offset=1000\n",
      "an error occured 400 Client Error: Bad Request for url: https://api.yelp.com/v3/businesses/search?location=NY%2C+NY&term=Sushi&offset=1000\n",
      "an error occured 400 Client Error: Bad Request for url: https://api.yelp.com/v3/businesses/search?location=NY%2C+NY&term=Sushi&offset=1000\n",
      "an error occured 400 Client Error: Bad Request for url: https://api.yelp.com/v3/businesses/search?location=NY%2C+NY&term=Sushi&offset=1000\n",
      "an error occured 400 Client Error: Bad Request for url: https://api.yelp.com/v3/businesses/search?location=NY%2C+NY&term=Sushi&offset=1000\n",
      "an error occured 400 Client Error: Bad Request for url: https://api.yelp.com/v3/businesses/search?location=NY%2C+NY&term=Sushi&offset=1000\n",
      "an error occured 400 Client Error: Bad Request for url: https://api.yelp.com/v3/businesses/search?location=NY%2C+NY&term=Sushi&offset=1000\n",
      "an error occured 400 Client Error: Bad Request for url: https://api.yelp.com/v3/businesses/search?location=NY%2C+NY&term=Sushi&offset=1000\n",
      "an error occured 400 Client Error: Bad Request for url: https://api.yelp.com/v3/businesses/search?location=NY%2C+NY&term=Sushi&offset=1000\n",
      "an error occured 400 Client Error: Bad Request for url: https://api.yelp.com/v3/businesses/search?location=NY%2C+NY&term=Sushi&offset=1000\n",
      "an error occured 400 Client Error: Bad Request for url: https://api.yelp.com/v3/businesses/search?location=NY%2C+NY&term=Sushi&offset=1000\n",
      "an error occured 400 Client Error: Bad Request for url: https://api.yelp.com/v3/businesses/search?location=NY%2C+NY&term=Sushi&offset=1000\n",
      "an error occured 400 Client Error: Bad Request for url: https://api.yelp.com/v3/businesses/search?location=NY%2C+NY&term=Sushi&offset=1000\n",
      "an error occured 400 Client Error: Bad Request for url: https://api.yelp.com/v3/businesses/search?location=NY%2C+NY&term=Sushi&offset=1000\n",
      "an error occured 400 Client Error: Bad Request for url: https://api.yelp.com/v3/businesses/search?location=NY%2C+NY&term=Sushi&offset=1000\n",
      "an error occured 400 Client Error: Bad Request for url: https://api.yelp.com/v3/businesses/search?location=NY%2C+NY&term=Sushi&offset=1000\n",
      "an error occured 400 Client Error: Bad Request for url: https://api.yelp.com/v3/businesses/search?location=NY%2C+NY&term=Sushi&offset=1000\n",
      "an error occured 400 Client Error: Bad Request for url: https://api.yelp.com/v3/businesses/search?location=NY%2C+NY&term=Sushi&offset=1000\n",
      "an error occured 400 Client Error: Bad Request for url: https://api.yelp.com/v3/businesses/search?location=NY%2C+NY&term=Sushi&offset=1000\n",
      "an error occured 400 Client Error: Bad Request for url: https://api.yelp.com/v3/businesses/search?location=NY%2C+NY&term=Sushi&offset=1000\n",
      "an error occured 400 Client Error: Bad Request for url: https://api.yelp.com/v3/businesses/search?location=NY%2C+NY&term=Sushi&offset=1000\n",
      "an error occured 400 Client Error: Bad Request for url: https://api.yelp.com/v3/businesses/search?location=NY%2C+NY&term=Sushi&offset=1000\n",
      "an error occured 400 Client Error: Bad Request for url: https://api.yelp.com/v3/businesses/search?location=NY%2C+NY&term=Sushi&offset=1000\n",
      "an error occured 400 Client Error: Bad Request for url: https://api.yelp.com/v3/businesses/search?location=NY%2C+NY&term=Sushi&offset=1000\n",
      "an error occured 400 Client Error: Bad Request for url: https://api.yelp.com/v3/businesses/search?location=NY%2C+NY&term=Sushi&offset=1000\n",
      "an error occured 400 Client Error: Bad Request for url: https://api.yelp.com/v3/businesses/search?location=NY%2C+NY&term=Sushi&offset=1000\n",
      "an error occured 400 Client Error: Bad Request for url: https://api.yelp.com/v3/businesses/search?location=NY%2C+NY&term=Sushi&offset=1000\n",
      "an error occured 400 Client Error: Bad Request for url: https://api.yelp.com/v3/businesses/search?location=NY%2C+NY&term=Sushi&offset=1000\n",
      "an error occured 400 Client Error: Bad Request for url: https://api.yelp.com/v3/businesses/search?location=NY%2C+NY&term=Sushi&offset=1000\n",
      "an error occured 400 Client Error: Bad Request for url: https://api.yelp.com/v3/businesses/search?location=NY%2C+NY&term=Sushi&offset=1000\n",
      "an error occured 400 Client Error: Bad Request for url: https://api.yelp.com/v3/businesses/search?location=NY%2C+NY&term=Sushi&offset=1000\n",
      "an error occured 400 Client Error: Bad Request for url: https://api.yelp.com/v3/businesses/search?location=NY%2C+NY&term=Sushi&offset=1000\n",
      "an error occured 400 Client Error: Bad Request for url: https://api.yelp.com/v3/businesses/search?location=NY%2C+NY&term=Sushi&offset=1000\n",
      "an error occured 400 Client Error: Bad Request for url: https://api.yelp.com/v3/businesses/search?location=NY%2C+NY&term=Sushi&offset=1000\n",
      "an error occured 400 Client Error: Bad Request for url: https://api.yelp.com/v3/businesses/search?location=NY%2C+NY&term=Sushi&offset=1000\n",
      "an error occured 400 Client Error: Bad Request for url: https://api.yelp.com/v3/businesses/search?location=NY%2C+NY&term=Sushi&offset=1000\n",
      "an error occured 400 Client Error: Bad Request for url: https://api.yelp.com/v3/businesses/search?location=NY%2C+NY&term=Sushi&offset=1000\n",
      "an error occured 400 Client Error: Bad Request for url: https://api.yelp.com/v3/businesses/search?location=NY%2C+NY&term=Sushi&offset=1000\n",
      "an error occured 400 Client Error: Bad Request for url: https://api.yelp.com/v3/businesses/search?location=NY%2C+NY&term=Sushi&offset=1000\n",
      "an error occured 400 Client Error: Bad Request for url: https://api.yelp.com/v3/businesses/search?location=NY%2C+NY&term=Sushi&offset=1000\n",
      "an error occured 400 Client Error: Bad Request for url: https://api.yelp.com/v3/businesses/search?location=NY%2C+NY&term=Sushi&offset=1000\n",
      "an error occured 400 Client Error: Bad Request for url: https://api.yelp.com/v3/businesses/search?location=NY%2C+NY&term=Sushi&offset=1000\n",
      "an error occured 400 Client Error: Bad Request for url: https://api.yelp.com/v3/businesses/search?location=NY%2C+NY&term=Sushi&offset=1000\n",
      "an error occured 400 Client Error: Bad Request for url: https://api.yelp.com/v3/businesses/search?location=NY%2C+NY&term=Sushi&offset=1000\n",
      "an error occured 400 Client Error: Bad Request for url: https://api.yelp.com/v3/businesses/search?location=NY%2C+NY&term=Sushi&offset=1000\n",
      "an error occured 400 Client Error: Bad Request for url: https://api.yelp.com/v3/businesses/search?location=NY%2C+NY&term=Sushi&offset=1000\n",
      "an error occured 400 Client Error: Bad Request for url: https://api.yelp.com/v3/businesses/search?location=NY%2C+NY&term=Sushi&offset=1000\n",
      "an error occured 400 Client Error: Bad Request for url: https://api.yelp.com/v3/businesses/search?location=NY%2C+NY&term=Sushi&offset=1000\n",
      "an error occured 400 Client Error: Bad Request for url: https://api.yelp.com/v3/businesses/search?location=NY%2C+NY&term=Sushi&offset=1000\n",
      "an error occured 400 Client Error: Bad Request for url: https://api.yelp.com/v3/businesses/search?location=NY%2C+NY&term=Sushi&offset=1000\n",
      "an error occured 400 Client Error: Bad Request for url: https://api.yelp.com/v3/businesses/search?location=NY%2C+NY&term=Sushi&offset=1000\n",
      "an error occured 400 Client Error: Bad Request for url: https://api.yelp.com/v3/businesses/search?location=NY%2C+NY&term=Sushi&offset=1000\n",
      "an error occured 400 Client Error: Bad Request for url: https://api.yelp.com/v3/businesses/search?location=NY%2C+NY&term=Sushi&offset=1000\n",
      "an error occured 400 Client Error: Bad Request for url: https://api.yelp.com/v3/businesses/search?location=NY%2C+NY&term=Sushi&offset=1000\n"
     ]
    }
   ],
   "source": [
    "# total number of api calls to make as to not exceed call limit\n",
    "results_per_call = len(results['businesses'])\n",
    "\n",
    "# Calculate the total number of iterations needed based on total results and results per call.\n",
    "total_iterations = min(n_pages, math.ceil(total_results / results_per_call))\n",
    "\n",
    "for i in tqdm_notebook(range(1, n_pages + 1)):\n",
    "\n",
    "    ## The block of code we want to TRY to run\n",
    "    try:        \n",
    "        # Introduce a short delay to respect API rate limits\n",
    "        time.sleep(0.2)\n",
    "        \n",
    "        ## Read in results in progress file and check the length\n",
    "        with open(JSON_FILE, 'r') as file:\n",
    "            previous_results = json.load(file)\n",
    "        \n",
    "        ## Save number of results to use as offset\n",
    "        n_results = len(previous_results)\n",
    "        \n",
    "        ## Use n_results as the OFFSET \n",
    "        results = yelp_api.search_query(location = LOCATION,\n",
    "                                        term = TERM,\n",
    "                                        offset = len(previous_results))\n",
    "\n",
    "        ## Append new results and save to file\n",
    "        previous_results.extend(results['businesses'])\n",
    "        with open(JSON_FILE, 'w') as file:\n",
    "            json.dump(previous_results, file)\n",
    "            \n",
    "## What to do if we get an error/exception.\n",
    "    except Exception as e:\n",
    "        # check if we are at rate limit\n",
    "        if 'Too Many Requests for url' in str(e):\n",
    "            print('Rate limit exceeded. Stop data collection.')\n",
    "            break\n",
    "        else:\n",
    "            print(f'an error occured {e}')\n",
    "            # optionally handle error differently\n",
    "            continue            "
   ]
  },
  {
   "cell_type": "markdown",
   "metadata": {},
   "source": [
    "## Open the Final JSON File with Pandas"
   ]
  },
  {
   "cell_type": "code",
   "execution_count": 22,
   "metadata": {},
   "outputs": [
    {
     "data": {
      "text/html": [
       "<div>\n",
       "<style scoped>\n",
       "    .dataframe tbody tr th:only-of-type {\n",
       "        vertical-align: middle;\n",
       "    }\n",
       "\n",
       "    .dataframe tbody tr th {\n",
       "        vertical-align: top;\n",
       "    }\n",
       "\n",
       "    .dataframe thead th {\n",
       "        text-align: right;\n",
       "    }\n",
       "</style>\n",
       "<table border=\"1\" class=\"dataframe\">\n",
       "  <thead>\n",
       "    <tr style=\"text-align: right;\">\n",
       "      <th></th>\n",
       "      <th>id</th>\n",
       "      <th>alias</th>\n",
       "      <th>name</th>\n",
       "      <th>image_url</th>\n",
       "      <th>is_closed</th>\n",
       "      <th>url</th>\n",
       "      <th>review_count</th>\n",
       "      <th>categories</th>\n",
       "      <th>rating</th>\n",
       "      <th>coordinates</th>\n",
       "      <th>transactions</th>\n",
       "      <th>location</th>\n",
       "      <th>phone</th>\n",
       "      <th>display_phone</th>\n",
       "      <th>distance</th>\n",
       "      <th>price</th>\n",
       "    </tr>\n",
       "  </thead>\n",
       "  <tbody>\n",
       "    <tr>\n",
       "      <th>0</th>\n",
       "      <td>k8YJDry6_pbPIiCPeK-6mQ</td>\n",
       "      <td>mikado-brooklyn</td>\n",
       "      <td>Mikado</td>\n",
       "      <td>https://s3-media2.fl.yelpcdn.com/bphoto/MNIqGY...</td>\n",
       "      <td>False</td>\n",
       "      <td>https://www.yelp.com/biz/mikado-brooklyn?adjus...</td>\n",
       "      <td>63</td>\n",
       "      <td>[{'alias': 'japanese', 'title': 'Japanese'}, {...</td>\n",
       "      <td>4.7</td>\n",
       "      <td>{'latitude': 40.69032888195518, 'longitude': -...</td>\n",
       "      <td>[pickup, delivery]</td>\n",
       "      <td>{'address1': '177 Atlantic Ave', 'address2': N...</td>\n",
       "      <td>+12123811388</td>\n",
       "      <td>(212) 381-1388</td>\n",
       "      <td>1681.307993</td>\n",
       "      <td>NaN</td>\n",
       "    </tr>\n",
       "    <tr>\n",
       "      <th>1</th>\n",
       "      <td>lv1zewxaq-zfYsKoWydsWQ</td>\n",
       "      <td>mr-sushi-brooklyn-4</td>\n",
       "      <td>Mr Sushi</td>\n",
       "      <td>https://s3-media4.fl.yelpcdn.com/bphoto/NXbUWO...</td>\n",
       "      <td>False</td>\n",
       "      <td>https://www.yelp.com/biz/mr-sushi-brooklyn-4?a...</td>\n",
       "      <td>41</td>\n",
       "      <td>[{'alias': 'japanese', 'title': 'Japanese'}, {...</td>\n",
       "      <td>4.9</td>\n",
       "      <td>{'latitude': 40.71424074485434, 'longitude': -...</td>\n",
       "      <td>[pickup, delivery]</td>\n",
       "      <td>{'address1': '331 Graham Ave', 'address2': Non...</td>\n",
       "      <td>+13476894141</td>\n",
       "      <td>(347) 689-4141</td>\n",
       "      <td>4298.671833</td>\n",
       "      <td>NaN</td>\n",
       "    </tr>\n",
       "    <tr>\n",
       "      <th>2</th>\n",
       "      <td>Q_81mthGMrQM6Qg-QdnOkA</td>\n",
       "      <td>mikado-new-york-5</td>\n",
       "      <td>Mikado</td>\n",
       "      <td>https://s3-media3.fl.yelpcdn.com/bphoto/UFSd49...</td>\n",
       "      <td>False</td>\n",
       "      <td>https://www.yelp.com/biz/mikado-new-york-5?adj...</td>\n",
       "      <td>20</td>\n",
       "      <td>[{'alias': 'sushi', 'title': 'Sushi Bars'}]</td>\n",
       "      <td>4.9</td>\n",
       "      <td>{'latitude': 40.70589172111019, 'longitude': -...</td>\n",
       "      <td>[pickup, delivery]</td>\n",
       "      <td>{'address1': '164 Pearl St', 'address2': None,...</td>\n",
       "      <td>+12128717499</td>\n",
       "      <td>(212) 871-7499</td>\n",
       "      <td>1106.219054</td>\n",
       "      <td>NaN</td>\n",
       "    </tr>\n",
       "    <tr>\n",
       "      <th>3</th>\n",
       "      <td>AudBWxeAr3zHr1ITrTcVpg</td>\n",
       "      <td>izakaya-fuku-jackson-heights</td>\n",
       "      <td>Izakaya Fuku</td>\n",
       "      <td>https://s3-media1.fl.yelpcdn.com/bphoto/mVURSC...</td>\n",
       "      <td>False</td>\n",
       "      <td>https://www.yelp.com/biz/izakaya-fuku-jackson-...</td>\n",
       "      <td>322</td>\n",
       "      <td>[{'alias': 'japanese', 'title': 'Japanese'}]</td>\n",
       "      <td>4.4</td>\n",
       "      <td>{'latitude': 40.74640809234451, 'longitude': -...</td>\n",
       "      <td>[delivery, pickup, restaurant_reservation]</td>\n",
       "      <td>{'address1': '71-28 Roosevelt Ave', 'address2'...</td>\n",
       "      <td>+17182551120</td>\n",
       "      <td>(718) 255-1120</td>\n",
       "      <td>9609.341910</td>\n",
       "      <td>$$</td>\n",
       "    </tr>\n",
       "    <tr>\n",
       "      <th>4</th>\n",
       "      <td>g8loNCHFIviiXEMN4nbKkA</td>\n",
       "      <td>sushi-295-mercer-new-york</td>\n",
       "      <td>Sushi 295 Mercer</td>\n",
       "      <td>https://s3-media1.fl.yelpcdn.com/bphoto/JIeOyS...</td>\n",
       "      <td>False</td>\n",
       "      <td>https://www.yelp.com/biz/sushi-295-mercer-new-...</td>\n",
       "      <td>36</td>\n",
       "      <td>[{'alias': 'sushi', 'title': 'Sushi Bars'}]</td>\n",
       "      <td>4.9</td>\n",
       "      <td>{'latitude': 40.730331, 'longitude': -73.993914}</td>\n",
       "      <td>[pickup, delivery]</td>\n",
       "      <td>{'address1': '295 Mercer St', 'address2': None...</td>\n",
       "      <td>+12127770295</td>\n",
       "      <td>(212) 777-0295</td>\n",
       "      <td>2770.936494</td>\n",
       "      <td>NaN</td>\n",
       "    </tr>\n",
       "  </tbody>\n",
       "</table>\n",
       "</div>"
      ],
      "text/plain": [
       "                       id                         alias              name  \\\n",
       "0  k8YJDry6_pbPIiCPeK-6mQ               mikado-brooklyn            Mikado   \n",
       "1  lv1zewxaq-zfYsKoWydsWQ           mr-sushi-brooklyn-4          Mr Sushi   \n",
       "2  Q_81mthGMrQM6Qg-QdnOkA             mikado-new-york-5            Mikado   \n",
       "3  AudBWxeAr3zHr1ITrTcVpg  izakaya-fuku-jackson-heights      Izakaya Fuku   \n",
       "4  g8loNCHFIviiXEMN4nbKkA     sushi-295-mercer-new-york  Sushi 295 Mercer   \n",
       "\n",
       "                                           image_url  is_closed  \\\n",
       "0  https://s3-media2.fl.yelpcdn.com/bphoto/MNIqGY...      False   \n",
       "1  https://s3-media4.fl.yelpcdn.com/bphoto/NXbUWO...      False   \n",
       "2  https://s3-media3.fl.yelpcdn.com/bphoto/UFSd49...      False   \n",
       "3  https://s3-media1.fl.yelpcdn.com/bphoto/mVURSC...      False   \n",
       "4  https://s3-media1.fl.yelpcdn.com/bphoto/JIeOyS...      False   \n",
       "\n",
       "                                                 url  review_count  \\\n",
       "0  https://www.yelp.com/biz/mikado-brooklyn?adjus...            63   \n",
       "1  https://www.yelp.com/biz/mr-sushi-brooklyn-4?a...            41   \n",
       "2  https://www.yelp.com/biz/mikado-new-york-5?adj...            20   \n",
       "3  https://www.yelp.com/biz/izakaya-fuku-jackson-...           322   \n",
       "4  https://www.yelp.com/biz/sushi-295-mercer-new-...            36   \n",
       "\n",
       "                                          categories  rating  \\\n",
       "0  [{'alias': 'japanese', 'title': 'Japanese'}, {...     4.7   \n",
       "1  [{'alias': 'japanese', 'title': 'Japanese'}, {...     4.9   \n",
       "2        [{'alias': 'sushi', 'title': 'Sushi Bars'}]     4.9   \n",
       "3       [{'alias': 'japanese', 'title': 'Japanese'}]     4.4   \n",
       "4        [{'alias': 'sushi', 'title': 'Sushi Bars'}]     4.9   \n",
       "\n",
       "                                         coordinates  \\\n",
       "0  {'latitude': 40.69032888195518, 'longitude': -...   \n",
       "1  {'latitude': 40.71424074485434, 'longitude': -...   \n",
       "2  {'latitude': 40.70589172111019, 'longitude': -...   \n",
       "3  {'latitude': 40.74640809234451, 'longitude': -...   \n",
       "4   {'latitude': 40.730331, 'longitude': -73.993914}   \n",
       "\n",
       "                                 transactions  \\\n",
       "0                          [pickup, delivery]   \n",
       "1                          [pickup, delivery]   \n",
       "2                          [pickup, delivery]   \n",
       "3  [delivery, pickup, restaurant_reservation]   \n",
       "4                          [pickup, delivery]   \n",
       "\n",
       "                                            location         phone  \\\n",
       "0  {'address1': '177 Atlantic Ave', 'address2': N...  +12123811388   \n",
       "1  {'address1': '331 Graham Ave', 'address2': Non...  +13476894141   \n",
       "2  {'address1': '164 Pearl St', 'address2': None,...  +12128717499   \n",
       "3  {'address1': '71-28 Roosevelt Ave', 'address2'...  +17182551120   \n",
       "4  {'address1': '295 Mercer St', 'address2': None...  +12127770295   \n",
       "\n",
       "    display_phone     distance price  \n",
       "0  (212) 381-1388  1681.307993   NaN  \n",
       "1  (347) 689-4141  4298.671833   NaN  \n",
       "2  (212) 871-7499  1106.219054   NaN  \n",
       "3  (718) 255-1120  9609.341910    $$  \n",
       "4  (212) 777-0295  2770.936494   NaN  "
      ]
     },
     "metadata": {},
     "output_type": "display_data"
    },
    {
     "data": {
      "text/html": [
       "<div>\n",
       "<style scoped>\n",
       "    .dataframe tbody tr th:only-of-type {\n",
       "        vertical-align: middle;\n",
       "    }\n",
       "\n",
       "    .dataframe tbody tr th {\n",
       "        vertical-align: top;\n",
       "    }\n",
       "\n",
       "    .dataframe thead th {\n",
       "        text-align: right;\n",
       "    }\n",
       "</style>\n",
       "<table border=\"1\" class=\"dataframe\">\n",
       "  <thead>\n",
       "    <tr style=\"text-align: right;\">\n",
       "      <th></th>\n",
       "      <th>id</th>\n",
       "      <th>alias</th>\n",
       "      <th>name</th>\n",
       "      <th>image_url</th>\n",
       "      <th>is_closed</th>\n",
       "      <th>url</th>\n",
       "      <th>review_count</th>\n",
       "      <th>categories</th>\n",
       "      <th>rating</th>\n",
       "      <th>coordinates</th>\n",
       "      <th>transactions</th>\n",
       "      <th>location</th>\n",
       "      <th>phone</th>\n",
       "      <th>display_phone</th>\n",
       "      <th>distance</th>\n",
       "      <th>price</th>\n",
       "    </tr>\n",
       "  </thead>\n",
       "  <tbody>\n",
       "    <tr>\n",
       "      <th>995</th>\n",
       "      <td>479rycCXZojMT9S0cl8Oxg</td>\n",
       "      <td>yakiniku-gen-new-york</td>\n",
       "      <td>Yakiniku Gen</td>\n",
       "      <td>https://s3-media1.fl.yelpcdn.com/bphoto/0CZBc5...</td>\n",
       "      <td>False</td>\n",
       "      <td>https://www.yelp.com/biz/yakiniku-gen-new-york...</td>\n",
       "      <td>176</td>\n",
       "      <td>[{'alias': 'japanese', 'title': 'Japanese'}, {...</td>\n",
       "      <td>3.8</td>\n",
       "      <td>{'latitude': 40.75611, 'longitude': -73.96815}</td>\n",
       "      <td>[pickup, delivery]</td>\n",
       "      <td>{'address1': '250 E 52nd St', 'address2': None...</td>\n",
       "      <td>+12126021129</td>\n",
       "      <td>(212) 602-1129</td>\n",
       "      <td>6046.752812</td>\n",
       "      <td>$$$</td>\n",
       "    </tr>\n",
       "    <tr>\n",
       "      <th>996</th>\n",
       "      <td>S-QizulX5qYwqUWUudTlkw</td>\n",
       "      <td>bondi-sushi-new-york-4</td>\n",
       "      <td>Bondi Sushi</td>\n",
       "      <td>https://s3-media4.fl.yelpcdn.com/bphoto/-kY_GC...</td>\n",
       "      <td>False</td>\n",
       "      <td>https://www.yelp.com/biz/bondi-sushi-new-york-...</td>\n",
       "      <td>24</td>\n",
       "      <td>[{'alias': 'sushi', 'title': 'Sushi Bars'}]</td>\n",
       "      <td>2.7</td>\n",
       "      <td>{'latitude': 40.71518511014587, 'longitude': -...</td>\n",
       "      <td>[pickup, delivery]</td>\n",
       "      <td>{'address1': '275 Greenwich St', 'address2': '...</td>\n",
       "      <td></td>\n",
       "      <td></td>\n",
       "      <td>1773.221927</td>\n",
       "      <td>NaN</td>\n",
       "    </tr>\n",
       "    <tr>\n",
       "      <th>997</th>\n",
       "      <td>jCettteufZZP9bAx5Pxovw</td>\n",
       "      <td>19-juku-omakase-new-york-2</td>\n",
       "      <td>19 @ Juku - Omakase</td>\n",
       "      <td>https://s3-media3.fl.yelpcdn.com/bphoto/DG-Rqe...</td>\n",
       "      <td>False</td>\n",
       "      <td>https://www.yelp.com/biz/19-juku-omakase-new-y...</td>\n",
       "      <td>40</td>\n",
       "      <td>[{'alias': 'sushi', 'title': 'Sushi Bars'}, {'...</td>\n",
       "      <td>4.4</td>\n",
       "      <td>{'latitude': 40.7146, 'longitude': -73.9995299}</td>\n",
       "      <td>[]</td>\n",
       "      <td>{'address1': '32 Mulberry St', 'address2': '',...</td>\n",
       "      <td>+16465902111</td>\n",
       "      <td>(646) 590-2111</td>\n",
       "      <td>1105.275693</td>\n",
       "      <td>NaN</td>\n",
       "    </tr>\n",
       "    <tr>\n",
       "      <th>998</th>\n",
       "      <td>tznio-FInuk87Y15Dgq5iw</td>\n",
       "      <td>udon-st-marks-new-york-2</td>\n",
       "      <td>Udon St Marks</td>\n",
       "      <td>https://s3-media2.fl.yelpcdn.com/bphoto/v7DD1z...</td>\n",
       "      <td>False</td>\n",
       "      <td>https://www.yelp.com/biz/udon-st-marks-new-yor...</td>\n",
       "      <td>940</td>\n",
       "      <td>[{'alias': 'japanese', 'title': 'Japanese'}, {...</td>\n",
       "      <td>3.7</td>\n",
       "      <td>{'latitude': 40.729424, 'longitude': -73.989004}</td>\n",
       "      <td>[pickup, delivery]</td>\n",
       "      <td>{'address1': '11 St Marks Pl', 'address2': '',...</td>\n",
       "      <td>+12129229677</td>\n",
       "      <td>(212) 922-9677</td>\n",
       "      <td>2706.058999</td>\n",
       "      <td>$$</td>\n",
       "    </tr>\n",
       "    <tr>\n",
       "      <th>999</th>\n",
       "      <td>fcCF0Kh_RCbv6KSVlb-Seg</td>\n",
       "      <td>sticky-rice-new-york</td>\n",
       "      <td>Sticky Rice</td>\n",
       "      <td>https://s3-media3.fl.yelpcdn.com/bphoto/z09IeM...</td>\n",
       "      <td>False</td>\n",
       "      <td>https://www.yelp.com/biz/sticky-rice-new-york?...</td>\n",
       "      <td>438</td>\n",
       "      <td>[{'alias': 'thai', 'title': 'Thai'}, {'alias':...</td>\n",
       "      <td>3.9</td>\n",
       "      <td>{'latitude': 40.71798, 'longitude': -73.99042}</td>\n",
       "      <td>[pickup, delivery]</td>\n",
       "      <td>{'address1': '85 Orchard St', 'address2': '', ...</td>\n",
       "      <td>+12122748208</td>\n",
       "      <td>(212) 274-8208</td>\n",
       "      <td>1439.783276</td>\n",
       "      <td>$$</td>\n",
       "    </tr>\n",
       "  </tbody>\n",
       "</table>\n",
       "</div>"
      ],
      "text/plain": [
       "                         id                       alias                 name  \\\n",
       "995  479rycCXZojMT9S0cl8Oxg       yakiniku-gen-new-york         Yakiniku Gen   \n",
       "996  S-QizulX5qYwqUWUudTlkw      bondi-sushi-new-york-4          Bondi Sushi   \n",
       "997  jCettteufZZP9bAx5Pxovw  19-juku-omakase-new-york-2  19 @ Juku - Omakase   \n",
       "998  tznio-FInuk87Y15Dgq5iw    udon-st-marks-new-york-2        Udon St Marks   \n",
       "999  fcCF0Kh_RCbv6KSVlb-Seg        sticky-rice-new-york          Sticky Rice   \n",
       "\n",
       "                                             image_url  is_closed  \\\n",
       "995  https://s3-media1.fl.yelpcdn.com/bphoto/0CZBc5...      False   \n",
       "996  https://s3-media4.fl.yelpcdn.com/bphoto/-kY_GC...      False   \n",
       "997  https://s3-media3.fl.yelpcdn.com/bphoto/DG-Rqe...      False   \n",
       "998  https://s3-media2.fl.yelpcdn.com/bphoto/v7DD1z...      False   \n",
       "999  https://s3-media3.fl.yelpcdn.com/bphoto/z09IeM...      False   \n",
       "\n",
       "                                                   url  review_count  \\\n",
       "995  https://www.yelp.com/biz/yakiniku-gen-new-york...           176   \n",
       "996  https://www.yelp.com/biz/bondi-sushi-new-york-...            24   \n",
       "997  https://www.yelp.com/biz/19-juku-omakase-new-y...            40   \n",
       "998  https://www.yelp.com/biz/udon-st-marks-new-yor...           940   \n",
       "999  https://www.yelp.com/biz/sticky-rice-new-york?...           438   \n",
       "\n",
       "                                            categories  rating  \\\n",
       "995  [{'alias': 'japanese', 'title': 'Japanese'}, {...     3.8   \n",
       "996        [{'alias': 'sushi', 'title': 'Sushi Bars'}]     2.7   \n",
       "997  [{'alias': 'sushi', 'title': 'Sushi Bars'}, {'...     4.4   \n",
       "998  [{'alias': 'japanese', 'title': 'Japanese'}, {...     3.7   \n",
       "999  [{'alias': 'thai', 'title': 'Thai'}, {'alias':...     3.9   \n",
       "\n",
       "                                           coordinates        transactions  \\\n",
       "995     {'latitude': 40.75611, 'longitude': -73.96815}  [pickup, delivery]   \n",
       "996  {'latitude': 40.71518511014587, 'longitude': -...  [pickup, delivery]   \n",
       "997    {'latitude': 40.7146, 'longitude': -73.9995299}                  []   \n",
       "998   {'latitude': 40.729424, 'longitude': -73.989004}  [pickup, delivery]   \n",
       "999     {'latitude': 40.71798, 'longitude': -73.99042}  [pickup, delivery]   \n",
       "\n",
       "                                              location         phone  \\\n",
       "995  {'address1': '250 E 52nd St', 'address2': None...  +12126021129   \n",
       "996  {'address1': '275 Greenwich St', 'address2': '...                 \n",
       "997  {'address1': '32 Mulberry St', 'address2': '',...  +16465902111   \n",
       "998  {'address1': '11 St Marks Pl', 'address2': '',...  +12129229677   \n",
       "999  {'address1': '85 Orchard St', 'address2': '', ...  +12122748208   \n",
       "\n",
       "      display_phone     distance price  \n",
       "995  (212) 602-1129  6046.752812   $$$  \n",
       "996                  1773.221927   NaN  \n",
       "997  (646) 590-2111  1105.275693   NaN  \n",
       "998  (212) 922-9677  2706.058999    $$  \n",
       "999  (212) 274-8208  1439.783276    $$  "
      ]
     },
     "metadata": {},
     "output_type": "display_data"
    }
   ],
   "source": [
    "df = pd.read_json(JSON_FILE)\n",
    "display(df.head(), df.tail())"
   ]
  },
  {
   "cell_type": "code",
   "execution_count": 23,
   "metadata": {},
   "outputs": [
    {
     "data": {
      "text/plain": [
       "0"
      ]
     },
     "execution_count": 23,
     "metadata": {},
     "output_type": "execute_result"
    }
   ],
   "source": [
    "# check for duplicate IDs\n",
    "df.duplicated(subset = 'id').sum()"
   ]
  },
  {
   "cell_type": "code",
   "execution_count": 24,
   "metadata": {},
   "outputs": [],
   "source": [
    "# There are no duplicates to remove"
   ]
  },
  {
   "cell_type": "code",
   "execution_count": 25,
   "metadata": {},
   "outputs": [
    {
     "data": {
      "text/plain": [
       "'C:\\\\Users\\\\ASUS TUF\\\\Documents\\\\GitHub\\\\data-enrichment-wk14-activity-mapping-yelp-api-results/results_NY_Sushi.csv.gz'"
      ]
     },
     "execution_count": 25,
     "metadata": {},
     "output_type": "execute_result"
    }
   ],
   "source": [
    "## convert the filename to a .csv.gz\n",
    "csv_file = JSON_FILE.replace('.json','.csv.gz')\n",
    "csv_file"
   ]
  },
  {
   "cell_type": "code",
   "execution_count": null,
   "metadata": {},
   "outputs": [],
   "source": [
    "## Save it as a compressed csv (to save space)"
   ]
  },
  {
   "cell_type": "markdown",
   "metadata": {},
   "source": [
    "# Creating a Relative File Path"
   ]
  },
  {
   "cell_type": "code",
   "execution_count": 26,
   "metadata": {},
   "outputs": [],
   "source": [
    "# Creating a Relative File Path\n",
    "\n",
    "# specify directory and filename\n",
    "directory = 'Data'\n",
    "filename = 'final_results_NY_Sushi'\n",
    "path = os.path.join(directory, filename)\n",
    "\n",
    "# ensure that the 'Data' directory exists\n",
    "os.makedirs(directory, exist_ok = True)\n",
    "\n",
    "## Save it as a compressed csv (to save space)\n",
    "df.to_csv(path, compression = 'gzip', index = False)"
   ]
  },
  {
   "cell_type": "code",
   "execution_count": 27,
   "metadata": {},
   "outputs": [
    {
     "name": "stdout",
     "output_type": "stream",
     "text": [
      "JSON FILE: 905,563 Bytes\n",
      "CSV.GZ FILE: 139,889 Bytes\n",
      "The csv.gz file is 6.47 times smaller than the JSON file.\n"
     ]
    }
   ],
   "source": [
    "# Step 1: Correctly Save the JSON File\n",
    "json_file = 'Data/final_results_NY_Sushi.json'  # Specify the correct JSON file name\n",
    "os.makedirs('Data', exist_ok = True)  # Ensure the Data directory exists\n",
    "df.to_json(json_file, orient = 'records', lines = True)  # Save the DataFrame as JSON\n",
    "\n",
    "# Step 2: Convert and Save as .CSV.GZ\n",
    "csv_gz_file = json_file.replace('.json', '.csv.gz')  # Create the CSV.GZ file name based on the JSON file name\n",
    "df.to_csv(csv_gz_file, compression = 'gzip', index = False)  # Save the DataFrame as compressed CSV\n",
    "\n",
    "# Step 3: Compare File Sizes\n",
    "if os.path.exists(json_file) and os.path.exists(csv_gz_file):\n",
    "    size_json = os.path.getsize(json_file)\n",
    "    size_csv_gz = os.path.getsize(csv_gz_file)\n",
    "\n",
    "    print(f'JSON FILE: {size_json:,} Bytes')\n",
    "    print(f'CSV.GZ FILE: {size_csv_gz:,} Bytes')\n",
    "\n",
    "    if size_csv_gz > 0:\n",
    "        compression_ratio = size_json / size_csv_gz\n",
    "        print(f'The csv.gz file is {compression_ratio:.2f} times smaller than the JSON file.')\n",
    "    else:\n",
    "        print(\"CSV.GZ file size is 0, cannot compare sizes.\")\n",
    "else:\n",
    "    print(\"One or both files do not exist, check file paths.\")"
   ]
  }
 ],
 "metadata": {
  "colab": {
   "collapsed_sections": [],
   "name": "Test Yelp API Package.ipynb",
   "provenance": []
  },
  "kernelspec": {
   "display_name": "Python (dojo-env)",
   "language": "python",
   "name": "dojo-env"
  },
  "language_info": {
   "codemirror_mode": {
    "name": "ipython",
    "version": 3
   },
   "file_extension": ".py",
   "mimetype": "text/x-python",
   "name": "python",
   "nbconvert_exporter": "python",
   "pygments_lexer": "ipython3",
   "version": "3.10.10"
  },
  "toc": {
   "base_numbering": 1,
   "nav_menu": {},
   "number_sections": false,
   "sideBar": true,
   "skip_h1_title": false,
   "title_cell": "Table of Contents",
   "title_sidebar": "Contents",
   "toc_cell": false,
   "toc_position": {},
   "toc_section_display": true,
   "toc_window_display": true
  },
  "widgets": {
   "application/vnd.jupyter.widget-state+json": {
    "state": {
     "147e400aa467474c953f238af3fc0fb8": {
      "model_module": "@jupyter-widgets/controls",
      "model_module_version": "2.0.0",
      "model_name": "FloatProgressModel",
      "state": {
       "bar_style": "success",
       "layout": "IPY_MODEL_77608ba73ca1440abc009dfe25461218",
       "max": 225,
       "style": "IPY_MODEL_86b73b386c2f421dbb88e68ac3c73749",
       "value": 225
      }
     },
     "333c0b45e93740b39726e0b3ede1c7f3": {
      "model_module": "@jupyter-widgets/controls",
      "model_module_version": "2.0.0",
      "model_name": "HBoxModel",
      "state": {
       "children": [
        "IPY_MODEL_b4243520d0cf47e0bb4aeb3066dd9674",
        "IPY_MODEL_147e400aa467474c953f238af3fc0fb8",
        "IPY_MODEL_50b56a103f734c5d96de6667c9a66117"
       ],
       "layout": "IPY_MODEL_69b3ecb06e5847c892c00a0663e51ad1"
      }
     },
     "3e42a5c43db345b696a961864c82cfbb": {
      "model_module": "@jupyter-widgets/base",
      "model_module_version": "2.0.0",
      "model_name": "LayoutModel",
      "state": {}
     },
     "50b56a103f734c5d96de6667c9a66117": {
      "model_module": "@jupyter-widgets/controls",
      "model_module_version": "2.0.0",
      "model_name": "HTMLModel",
      "state": {
       "layout": "IPY_MODEL_3e42a5c43db345b696a961864c82cfbb",
       "style": "IPY_MODEL_674f4939d16b415bb5a5c6fc75cf92ac",
       "value": " 225/225 [03:13&lt;00:00,  1.82it/s]"
      }
     },
     "674f4939d16b415bb5a5c6fc75cf92ac": {
      "model_module": "@jupyter-widgets/controls",
      "model_module_version": "2.0.0",
      "model_name": "HTMLStyleModel",
      "state": {
       "description_width": "",
       "font_size": null,
       "text_color": null
      }
     },
     "69b3ecb06e5847c892c00a0663e51ad1": {
      "model_module": "@jupyter-widgets/base",
      "model_module_version": "2.0.0",
      "model_name": "LayoutModel",
      "state": {}
     },
     "77608ba73ca1440abc009dfe25461218": {
      "model_module": "@jupyter-widgets/base",
      "model_module_version": "2.0.0",
      "model_name": "LayoutModel",
      "state": {}
     },
     "8543f6006e91432ea50362c2d5bc89ec": {
      "model_module": "@jupyter-widgets/base",
      "model_module_version": "2.0.0",
      "model_name": "LayoutModel",
      "state": {}
     },
     "86b73b386c2f421dbb88e68ac3c73749": {
      "model_module": "@jupyter-widgets/controls",
      "model_module_version": "2.0.0",
      "model_name": "ProgressStyleModel",
      "state": {
       "description_width": ""
      }
     },
     "b4243520d0cf47e0bb4aeb3066dd9674": {
      "model_module": "@jupyter-widgets/controls",
      "model_module_version": "2.0.0",
      "model_name": "HTMLModel",
      "state": {
       "layout": "IPY_MODEL_8543f6006e91432ea50362c2d5bc89ec",
       "style": "IPY_MODEL_d5537bda0b004a61923cb0e70840f88e",
       "value": "100%"
      }
     },
     "d5537bda0b004a61923cb0e70840f88e": {
      "model_module": "@jupyter-widgets/controls",
      "model_module_version": "2.0.0",
      "model_name": "HTMLStyleModel",
      "state": {
       "description_width": "",
       "font_size": null,
       "text_color": null
      }
     }
    },
    "version_major": 2,
    "version_minor": 0
   }
  }
 },
 "nbformat": 4,
 "nbformat_minor": 4
}
