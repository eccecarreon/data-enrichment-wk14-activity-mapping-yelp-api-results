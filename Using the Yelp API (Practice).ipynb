{
 "cells": [
  {
   "cell_type": "markdown",
   "id": "9bc8bb66-b009-4c6c-b10f-526fb0d60c6f",
   "metadata": {},
   "source": [
    "**Using the Yelp API (Practice)**"
   ]
  },
  {
   "cell_type": "markdown",
   "id": "1bca26b8-d513-420d-a2f4-9f18b55ae7c5",
   "metadata": {},
   "source": [
    "# **Task**"
   ]
  },
  {
   "cell_type": "markdown",
   "id": "34720085-a8ae-415e-97f1-acb2a8d8ff49",
   "metadata": {},
   "source": [
    "For this assignment, you will practice with the Yelp API and the concept of pagination.\n",
    "\n",
    "* Use your API credentials to access the Yelp API\n",
    "* You can choose the location and search term (food), but it must return more than 20 results so you can practice pagination!\n",
    "* Obtain ONLY the first two pages of results\n",
    "* Concatenate the results into one data frame\n",
    "* Save the businesses as a records-oriented JSON file with an informative filename. (df.to_json(\"yelp-search-new-york-pizza.json\", orient='records'))"
   ]
  },
  {
   "cell_type": "markdown",
   "id": "9058e821-a78b-453f-af27-fba23079a3d0",
   "metadata": {},
   "source": [
    "# Solution"
   ]
  },
  {
   "cell_type": "code",
   "execution_count": 1,
   "id": "c13bbeaf-9a26-481a-939c-da4388f012ba",
   "metadata": {
    "tags": []
   },
   "outputs": [],
   "source": [
    "# Standard Imports\n",
    "import numpy as np\n",
    "import pandas as pd\n",
    "import matplotlib.pyplot as plt\n",
    "import seaborn as sns\n",
    "\n",
    "# Additional Imports\n",
    "import os, json, math, time\n",
    "from yelpapi import YelpAPI\n",
    "from tqdm.notebook import tqdm_notebook"
   ]
  },
  {
   "cell_type": "code",
   "execution_count": 2,
   "id": "8ebc5833-87cf-4123-b7fc-5b4ca6957c1b",
   "metadata": {
    "tags": []
   },
   "outputs": [
    {
     "name": "stdout",
     "output_type": "stream",
     "text": [
      "dict_keys(['client-id', 'api-key'])\n"
     ]
    }
   ],
   "source": [
    "# Use your API credentials to access the Yelp API\n",
    "import json\n",
    "with open(r'C:\\Users\\ASUS TUF\\Documents\\GitHub\\data-enrichment-wk14-activity-mapping-yelp-api-results\\.secret\\yelp_api.json') as f:\n",
    "    creds = json.load(f)\n",
    "print(creds.keys())"
   ]
  },
  {
   "cell_type": "code",
   "execution_count": 3,
   "id": "a58e9a51-8a4a-46f2-abae-5c8c5a83c8d3",
   "metadata": {},
   "outputs": [],
   "source": [
    "# set our API call parameters and filename before the first call\n",
    "LOCATION = 'NY, NY'\n",
    "TERM = 'Ramen'\n",
    "\n",
    "# filename for saving the data\n",
    "# json_filename = 'yelp_search_results.json'"
   ]
  },
  {
   "cell_type": "code",
   "execution_count": 4,
   "id": "5486ed82-2dc4-4085-82a9-28c2880e95be",
   "metadata": {},
   "outputs": [
    {
     "data": {
      "text/plain": [
       "<yelpapi.yelpapi.YelpAPI at 0x2a401afbd00>"
      ]
     },
     "execution_count": 4,
     "metadata": {},
     "output_type": "execute_result"
    }
   ],
   "source": [
    "# Instantiate YelpAPI Variable\n",
    "yelp_api = YelpAPI(creds['api-key'], timeout_s=5.0)\n",
    "yelp_api"
   ]
  },
  {
   "cell_type": "code",
   "execution_count": 5,
   "id": "55081158-7ef4-49b5-848c-5b2f1de5b8c1",
   "metadata": {},
   "outputs": [
    {
     "data": {
      "text/plain": [
       "dict_keys(['businesses', 'total', 'region'])"
      ]
     },
     "execution_count": 5,
     "metadata": {},
     "output_type": "execute_result"
    }
   ],
   "source": [
    "# You can choose the location and search term (food), but it must return more than 20 results so you can practice pagination!\n",
    "# Use our yelp_api variable's search_query method to perform our API call\n",
    "ramen_0 = yelp_api.search_query(location = LOCATION,\n",
    "                                term = TERM,\n",
    "                               offset=0, length=1)\n",
    "\n",
    "ramen_0.keys()"
   ]
  },
  {
   "cell_type": "code",
   "execution_count": 6,
   "id": "43f5ddb2-5c38-48b5-b9ce-d64a63b864cb",
   "metadata": {},
   "outputs": [
    {
     "data": {
      "text/html": [
       "<div>\n",
       "<style scoped>\n",
       "    .dataframe tbody tr th:only-of-type {\n",
       "        vertical-align: middle;\n",
       "    }\n",
       "\n",
       "    .dataframe tbody tr th {\n",
       "        vertical-align: top;\n",
       "    }\n",
       "\n",
       "    .dataframe thead th {\n",
       "        text-align: right;\n",
       "    }\n",
       "</style>\n",
       "<table border=\"1\" class=\"dataframe\">\n",
       "  <thead>\n",
       "    <tr style=\"text-align: right;\">\n",
       "      <th></th>\n",
       "      <th>id</th>\n",
       "      <th>alias</th>\n",
       "      <th>name</th>\n",
       "      <th>image_url</th>\n",
       "      <th>is_closed</th>\n",
       "      <th>url</th>\n",
       "      <th>review_count</th>\n",
       "      <th>categories</th>\n",
       "      <th>rating</th>\n",
       "      <th>coordinates</th>\n",
       "      <th>transactions</th>\n",
       "      <th>price</th>\n",
       "      <th>location</th>\n",
       "      <th>phone</th>\n",
       "      <th>display_phone</th>\n",
       "      <th>distance</th>\n",
       "    </tr>\n",
       "  </thead>\n",
       "  <tbody>\n",
       "    <tr>\n",
       "      <th>0</th>\n",
       "      <td>FlZ1zdVEKWv7dwqm8Uw8-w</td>\n",
       "      <td>raku-new-york-7</td>\n",
       "      <td>Raku</td>\n",
       "      <td>https://s3-media4.fl.yelpcdn.com/bphoto/GEbZnH...</td>\n",
       "      <td>False</td>\n",
       "      <td>https://www.yelp.com/biz/raku-new-york-7?adjus...</td>\n",
       "      <td>1641</td>\n",
       "      <td>[{'alias': 'japanese', 'title': 'Japanese'}, {...</td>\n",
       "      <td>4.4</td>\n",
       "      <td>{'latitude': 40.7264988089246, 'longitude': -7...</td>\n",
       "      <td>[pickup, delivery]</td>\n",
       "      <td>$$</td>\n",
       "      <td>{'address1': '342 E 6th St', 'address2': '', '...</td>\n",
       "      <td>+12122281324</td>\n",
       "      <td>(212) 228-1324</td>\n",
       "      <td>2428.039249</td>\n",
       "    </tr>\n",
       "    <tr>\n",
       "      <th>1</th>\n",
       "      <td>AudBWxeAr3zHr1ITrTcVpg</td>\n",
       "      <td>izakaya-fuku-jackson-heights</td>\n",
       "      <td>Izakaya Fuku</td>\n",
       "      <td>https://s3-media1.fl.yelpcdn.com/bphoto/mVURSC...</td>\n",
       "      <td>False</td>\n",
       "      <td>https://www.yelp.com/biz/izakaya-fuku-jackson-...</td>\n",
       "      <td>322</td>\n",
       "      <td>[{'alias': 'japanese', 'title': 'Japanese'}]</td>\n",
       "      <td>4.4</td>\n",
       "      <td>{'latitude': 40.74640809234451, 'longitude': -...</td>\n",
       "      <td>[pickup, restaurant_reservation, delivery]</td>\n",
       "      <td>$$</td>\n",
       "      <td>{'address1': '71-28 Roosevelt Ave', 'address2'...</td>\n",
       "      <td>+17182551120</td>\n",
       "      <td>(718) 255-1120</td>\n",
       "      <td>9609.341910</td>\n",
       "    </tr>\n",
       "  </tbody>\n",
       "</table>\n",
       "</div>"
      ],
      "text/plain": [
       "                       id                         alias          name  \\\n",
       "0  FlZ1zdVEKWv7dwqm8Uw8-w               raku-new-york-7          Raku   \n",
       "1  AudBWxeAr3zHr1ITrTcVpg  izakaya-fuku-jackson-heights  Izakaya Fuku   \n",
       "\n",
       "                                           image_url  is_closed  \\\n",
       "0  https://s3-media4.fl.yelpcdn.com/bphoto/GEbZnH...      False   \n",
       "1  https://s3-media1.fl.yelpcdn.com/bphoto/mVURSC...      False   \n",
       "\n",
       "                                                 url  review_count  \\\n",
       "0  https://www.yelp.com/biz/raku-new-york-7?adjus...          1641   \n",
       "1  https://www.yelp.com/biz/izakaya-fuku-jackson-...           322   \n",
       "\n",
       "                                          categories  rating  \\\n",
       "0  [{'alias': 'japanese', 'title': 'Japanese'}, {...     4.4   \n",
       "1       [{'alias': 'japanese', 'title': 'Japanese'}]     4.4   \n",
       "\n",
       "                                         coordinates  \\\n",
       "0  {'latitude': 40.7264988089246, 'longitude': -7...   \n",
       "1  {'latitude': 40.74640809234451, 'longitude': -...   \n",
       "\n",
       "                                 transactions price  \\\n",
       "0                          [pickup, delivery]    $$   \n",
       "1  [pickup, restaurant_reservation, delivery]    $$   \n",
       "\n",
       "                                            location         phone  \\\n",
       "0  {'address1': '342 E 6th St', 'address2': '', '...  +12122281324   \n",
       "1  {'address1': '71-28 Roosevelt Ave', 'address2'...  +17182551120   \n",
       "\n",
       "    display_phone     distance  \n",
       "0  (212) 228-1324  2428.039249  \n",
       "1  (718) 255-1120  9609.341910  "
      ]
     },
     "execution_count": 6,
     "metadata": {},
     "output_type": "execute_result"
    }
   ],
   "source": [
    "ramen0 = pd.DataFrame(ramen_0['businesses'])\n",
    "ramen0.head(2)"
   ]
  },
  {
   "cell_type": "code",
   "execution_count": 7,
   "id": "d42141d3-3061-44ae-b38b-efb26f0bfb65",
   "metadata": {},
   "outputs": [
    {
     "data": {
      "text/plain": [
       "2600"
      ]
     },
     "execution_count": 7,
     "metadata": {},
     "output_type": "execute_result"
    }
   ],
   "source": [
    "ramen_0['total']"
   ]
  },
  {
   "cell_type": "code",
   "execution_count": 8,
   "id": "2b55c20f-bb40-4701-b6ef-a1fd54277665",
   "metadata": {},
   "outputs": [
    {
     "data": {
      "text/plain": [
       "dict_keys(['businesses', 'total', 'region'])"
      ]
     },
     "execution_count": 8,
     "metadata": {},
     "output_type": "execute_result"
    }
   ],
   "source": [
    "# Obtain ONLY the first two pages of results\n",
    "ramen_20 = yelp_api.search_query(location = LOCATION,\n",
    "                                term = TERM,\n",
    "                               offset=19, length=20)\n",
    "\n",
    "ramen_20.keys()\n",
    "# The Yelp API will only return a \"page\" of 20 results at a time.\n",
    "# If we want to get the next page of results, we will perform another API call, but we will add an additional argument called \"offset.\"\n",
    "# The offset is what # result to use as the FIRST result for the page. There are 20 results per page\n",
    "# If we had 20 businesses in our first result, we would want to add an offset of 20.\n",
    "# Since there are 0, then we set an offset of 40."
   ]
  },
  {
   "cell_type": "code",
   "execution_count": 9,
   "id": "5ac8c426-fdc6-4795-91e8-791a9132f54c",
   "metadata": {},
   "outputs": [
    {
     "data": {
      "text/html": [
       "<div>\n",
       "<style scoped>\n",
       "    .dataframe tbody tr th:only-of-type {\n",
       "        vertical-align: middle;\n",
       "    }\n",
       "\n",
       "    .dataframe tbody tr th {\n",
       "        vertical-align: top;\n",
       "    }\n",
       "\n",
       "    .dataframe thead th {\n",
       "        text-align: right;\n",
       "    }\n",
       "</style>\n",
       "<table border=\"1\" class=\"dataframe\">\n",
       "  <thead>\n",
       "    <tr style=\"text-align: right;\">\n",
       "      <th></th>\n",
       "      <th>id</th>\n",
       "      <th>alias</th>\n",
       "      <th>name</th>\n",
       "      <th>image_url</th>\n",
       "      <th>is_closed</th>\n",
       "      <th>url</th>\n",
       "      <th>review_count</th>\n",
       "      <th>categories</th>\n",
       "      <th>rating</th>\n",
       "      <th>coordinates</th>\n",
       "      <th>transactions</th>\n",
       "      <th>price</th>\n",
       "      <th>location</th>\n",
       "      <th>phone</th>\n",
       "      <th>display_phone</th>\n",
       "      <th>distance</th>\n",
       "    </tr>\n",
       "  </thead>\n",
       "  <tbody>\n",
       "    <tr>\n",
       "      <th>0</th>\n",
       "      <td>hvrQQ0YWqgw0__OnofqXag</td>\n",
       "      <td>kuu-new-york-2</td>\n",
       "      <td>Kuu</td>\n",
       "      <td>https://s3-media1.fl.yelpcdn.com/bphoto/nlAMPX...</td>\n",
       "      <td>False</td>\n",
       "      <td>https://www.yelp.com/biz/kuu-new-york-2?adjust...</td>\n",
       "      <td>843</td>\n",
       "      <td>[{'alias': 'ramen', 'title': 'Ramen'}, {'alias...</td>\n",
       "      <td>4.0</td>\n",
       "      <td>{'latitude': 40.709738, 'longitude': -74.008966}</td>\n",
       "      <td>[pickup, delivery]</td>\n",
       "      <td>$$</td>\n",
       "      <td>{'address1': '20 John St', 'address2': '', 'ad...</td>\n",
       "      <td>+12125717177</td>\n",
       "      <td>(212) 571-7177</td>\n",
       "      <td>1316.552846</td>\n",
       "    </tr>\n",
       "    <tr>\n",
       "      <th>1</th>\n",
       "      <td>Cg5kGSXIelsKX9eqlHr31A</td>\n",
       "      <td>kyuramen-union-square-new-york</td>\n",
       "      <td>Kyuramen - Union Square</td>\n",
       "      <td>https://s3-media1.fl.yelpcdn.com/bphoto/FsfMGP...</td>\n",
       "      <td>False</td>\n",
       "      <td>https://www.yelp.com/biz/kyuramen-union-square...</td>\n",
       "      <td>684</td>\n",
       "      <td>[{'alias': 'ramen', 'title': 'Ramen'}, {'alias...</td>\n",
       "      <td>4.2</td>\n",
       "      <td>{'latitude': 40.73310125993799, 'longitude': -...</td>\n",
       "      <td>[pickup, restaurant_reservation, delivery]</td>\n",
       "      <td>$$</td>\n",
       "      <td>{'address1': '210 E 14th St', 'address2': '', ...</td>\n",
       "      <td>+16466924120</td>\n",
       "      <td>(646) 692-4120</td>\n",
       "      <td>3141.194274</td>\n",
       "    </tr>\n",
       "  </tbody>\n",
       "</table>\n",
       "</div>"
      ],
      "text/plain": [
       "                       id                           alias  \\\n",
       "0  hvrQQ0YWqgw0__OnofqXag                  kuu-new-york-2   \n",
       "1  Cg5kGSXIelsKX9eqlHr31A  kyuramen-union-square-new-york   \n",
       "\n",
       "                      name                                          image_url  \\\n",
       "0                      Kuu  https://s3-media1.fl.yelpcdn.com/bphoto/nlAMPX...   \n",
       "1  Kyuramen - Union Square  https://s3-media1.fl.yelpcdn.com/bphoto/FsfMGP...   \n",
       "\n",
       "   is_closed                                                url  review_count  \\\n",
       "0      False  https://www.yelp.com/biz/kuu-new-york-2?adjust...           843   \n",
       "1      False  https://www.yelp.com/biz/kyuramen-union-square...           684   \n",
       "\n",
       "                                          categories  rating  \\\n",
       "0  [{'alias': 'ramen', 'title': 'Ramen'}, {'alias...     4.0   \n",
       "1  [{'alias': 'ramen', 'title': 'Ramen'}, {'alias...     4.2   \n",
       "\n",
       "                                         coordinates  \\\n",
       "0   {'latitude': 40.709738, 'longitude': -74.008966}   \n",
       "1  {'latitude': 40.73310125993799, 'longitude': -...   \n",
       "\n",
       "                                 transactions price  \\\n",
       "0                          [pickup, delivery]    $$   \n",
       "1  [pickup, restaurant_reservation, delivery]    $$   \n",
       "\n",
       "                                            location         phone  \\\n",
       "0  {'address1': '20 John St', 'address2': '', 'ad...  +12125717177   \n",
       "1  {'address1': '210 E 14th St', 'address2': '', ...  +16466924120   \n",
       "\n",
       "    display_phone     distance  \n",
       "0  (212) 571-7177  1316.552846  \n",
       "1  (646) 692-4120  3141.194274  "
      ]
     },
     "execution_count": 9,
     "metadata": {},
     "output_type": "execute_result"
    }
   ],
   "source": [
    "ramen20 = pd.DataFrame(ramen_20['businesses'])\n",
    "ramen20.head(2)"
   ]
  },
  {
   "cell_type": "code",
   "execution_count": 10,
   "id": "4f3e1648-c64c-47c8-aa86-69178c79f490",
   "metadata": {},
   "outputs": [
    {
     "data": {
      "text/plain": [
       "2600"
      ]
     },
     "execution_count": 10,
     "metadata": {},
     "output_type": "execute_result"
    }
   ],
   "source": [
    "ramen_20['total']"
   ]
  },
  {
   "cell_type": "code",
   "execution_count": 11,
   "id": "c6e34997-04dc-4016-8054-f8ed9853195e",
   "metadata": {},
   "outputs": [
    {
     "data": {
      "text/html": [
       "<div>\n",
       "<style scoped>\n",
       "    .dataframe tbody tr th:only-of-type {\n",
       "        vertical-align: middle;\n",
       "    }\n",
       "\n",
       "    .dataframe tbody tr th {\n",
       "        vertical-align: top;\n",
       "    }\n",
       "\n",
       "    .dataframe thead th {\n",
       "        text-align: right;\n",
       "    }\n",
       "</style>\n",
       "<table border=\"1\" class=\"dataframe\">\n",
       "  <thead>\n",
       "    <tr style=\"text-align: right;\">\n",
       "      <th></th>\n",
       "      <th>id</th>\n",
       "      <th>alias</th>\n",
       "      <th>name</th>\n",
       "      <th>image_url</th>\n",
       "      <th>is_closed</th>\n",
       "      <th>url</th>\n",
       "      <th>review_count</th>\n",
       "      <th>categories</th>\n",
       "      <th>rating</th>\n",
       "      <th>coordinates</th>\n",
       "      <th>transactions</th>\n",
       "      <th>price</th>\n",
       "      <th>location</th>\n",
       "      <th>phone</th>\n",
       "      <th>display_phone</th>\n",
       "      <th>distance</th>\n",
       "    </tr>\n",
       "  </thead>\n",
       "  <tbody>\n",
       "    <tr>\n",
       "      <th>0</th>\n",
       "      <td>FlZ1zdVEKWv7dwqm8Uw8-w</td>\n",
       "      <td>raku-new-york-7</td>\n",
       "      <td>Raku</td>\n",
       "      <td>https://s3-media4.fl.yelpcdn.com/bphoto/GEbZnH...</td>\n",
       "      <td>False</td>\n",
       "      <td>https://www.yelp.com/biz/raku-new-york-7?adjus...</td>\n",
       "      <td>1641</td>\n",
       "      <td>[{'alias': 'japanese', 'title': 'Japanese'}, {...</td>\n",
       "      <td>4.4</td>\n",
       "      <td>{'latitude': 40.7264988089246, 'longitude': -7...</td>\n",
       "      <td>[pickup, delivery]</td>\n",
       "      <td>$$</td>\n",
       "      <td>{'address1': '342 E 6th St', 'address2': '', '...</td>\n",
       "      <td>+12122281324</td>\n",
       "      <td>(212) 228-1324</td>\n",
       "      <td>2428.039249</td>\n",
       "    </tr>\n",
       "    <tr>\n",
       "      <th>1</th>\n",
       "      <td>AudBWxeAr3zHr1ITrTcVpg</td>\n",
       "      <td>izakaya-fuku-jackson-heights</td>\n",
       "      <td>Izakaya Fuku</td>\n",
       "      <td>https://s3-media1.fl.yelpcdn.com/bphoto/mVURSC...</td>\n",
       "      <td>False</td>\n",
       "      <td>https://www.yelp.com/biz/izakaya-fuku-jackson-...</td>\n",
       "      <td>322</td>\n",
       "      <td>[{'alias': 'japanese', 'title': 'Japanese'}]</td>\n",
       "      <td>4.4</td>\n",
       "      <td>{'latitude': 40.74640809234451, 'longitude': -...</td>\n",
       "      <td>[pickup, restaurant_reservation, delivery]</td>\n",
       "      <td>$$</td>\n",
       "      <td>{'address1': '71-28 Roosevelt Ave', 'address2'...</td>\n",
       "      <td>+17182551120</td>\n",
       "      <td>(718) 255-1120</td>\n",
       "      <td>9609.341910</td>\n",
       "    </tr>\n",
       "    <tr>\n",
       "      <th>2</th>\n",
       "      <td>lT-yNq6BW2vonJ9Ik-T5vg</td>\n",
       "      <td>tonchin-brooklyn</td>\n",
       "      <td>Tonchin</td>\n",
       "      <td>https://s3-media2.fl.yelpcdn.com/bphoto/dLLNHy...</td>\n",
       "      <td>False</td>\n",
       "      <td>https://www.yelp.com/biz/tonchin-brooklyn?adju...</td>\n",
       "      <td>103</td>\n",
       "      <td>[{'alias': 'ramen', 'title': 'Ramen'}, {'alias...</td>\n",
       "      <td>4.3</td>\n",
       "      <td>{'latitude': 40.71676616063315, 'longitude': -...</td>\n",
       "      <td>[]</td>\n",
       "      <td>NaN</td>\n",
       "      <td>{'address1': '109 N 3rd St', 'address2': '', '...</td>\n",
       "      <td>+13474575528</td>\n",
       "      <td>(347) 457-5528</td>\n",
       "      <td>3022.198195</td>\n",
       "    </tr>\n",
       "  </tbody>\n",
       "</table>\n",
       "</div>"
      ],
      "text/plain": [
       "                       id                         alias          name  \\\n",
       "0  FlZ1zdVEKWv7dwqm8Uw8-w               raku-new-york-7          Raku   \n",
       "1  AudBWxeAr3zHr1ITrTcVpg  izakaya-fuku-jackson-heights  Izakaya Fuku   \n",
       "2  lT-yNq6BW2vonJ9Ik-T5vg              tonchin-brooklyn       Tonchin   \n",
       "\n",
       "                                           image_url  is_closed  \\\n",
       "0  https://s3-media4.fl.yelpcdn.com/bphoto/GEbZnH...      False   \n",
       "1  https://s3-media1.fl.yelpcdn.com/bphoto/mVURSC...      False   \n",
       "2  https://s3-media2.fl.yelpcdn.com/bphoto/dLLNHy...      False   \n",
       "\n",
       "                                                 url  review_count  \\\n",
       "0  https://www.yelp.com/biz/raku-new-york-7?adjus...          1641   \n",
       "1  https://www.yelp.com/biz/izakaya-fuku-jackson-...           322   \n",
       "2  https://www.yelp.com/biz/tonchin-brooklyn?adju...           103   \n",
       "\n",
       "                                          categories  rating  \\\n",
       "0  [{'alias': 'japanese', 'title': 'Japanese'}, {...     4.4   \n",
       "1       [{'alias': 'japanese', 'title': 'Japanese'}]     4.4   \n",
       "2  [{'alias': 'ramen', 'title': 'Ramen'}, {'alias...     4.3   \n",
       "\n",
       "                                         coordinates  \\\n",
       "0  {'latitude': 40.7264988089246, 'longitude': -7...   \n",
       "1  {'latitude': 40.74640809234451, 'longitude': -...   \n",
       "2  {'latitude': 40.71676616063315, 'longitude': -...   \n",
       "\n",
       "                                 transactions price  \\\n",
       "0                          [pickup, delivery]    $$   \n",
       "1  [pickup, restaurant_reservation, delivery]    $$   \n",
       "2                                          []   NaN   \n",
       "\n",
       "                                            location         phone  \\\n",
       "0  {'address1': '342 E 6th St', 'address2': '', '...  +12122281324   \n",
       "1  {'address1': '71-28 Roosevelt Ave', 'address2'...  +17182551120   \n",
       "2  {'address1': '109 N 3rd St', 'address2': '', '...  +13474575528   \n",
       "\n",
       "    display_phone     distance  \n",
       "0  (212) 228-1324  2428.039249  \n",
       "1  (718) 255-1120  9609.341910  \n",
       "2  (347) 457-5528  3022.198195  "
      ]
     },
     "metadata": {},
     "output_type": "display_data"
    },
    {
     "data": {
      "text/html": [
       "<div>\n",
       "<style scoped>\n",
       "    .dataframe tbody tr th:only-of-type {\n",
       "        vertical-align: middle;\n",
       "    }\n",
       "\n",
       "    .dataframe tbody tr th {\n",
       "        vertical-align: top;\n",
       "    }\n",
       "\n",
       "    .dataframe thead th {\n",
       "        text-align: right;\n",
       "    }\n",
       "</style>\n",
       "<table border=\"1\" class=\"dataframe\">\n",
       "  <thead>\n",
       "    <tr style=\"text-align: right;\">\n",
       "      <th></th>\n",
       "      <th>id</th>\n",
       "      <th>alias</th>\n",
       "      <th>name</th>\n",
       "      <th>image_url</th>\n",
       "      <th>is_closed</th>\n",
       "      <th>url</th>\n",
       "      <th>review_count</th>\n",
       "      <th>categories</th>\n",
       "      <th>rating</th>\n",
       "      <th>coordinates</th>\n",
       "      <th>transactions</th>\n",
       "      <th>price</th>\n",
       "      <th>location</th>\n",
       "      <th>phone</th>\n",
       "      <th>display_phone</th>\n",
       "      <th>distance</th>\n",
       "    </tr>\n",
       "  </thead>\n",
       "  <tbody>\n",
       "    <tr>\n",
       "      <th>37</th>\n",
       "      <td>dUfKnUnwaYKciyoRzDBLEw</td>\n",
       "      <td>izakaya-nana-flushing</td>\n",
       "      <td>Izakaya Nana</td>\n",
       "      <td>https://s3-media2.fl.yelpcdn.com/bphoto/uqKmQy...</td>\n",
       "      <td>False</td>\n",
       "      <td>https://www.yelp.com/biz/izakaya-nana-flushing...</td>\n",
       "      <td>608</td>\n",
       "      <td>[{'alias': 'izakaya', 'title': 'Izakaya'}]</td>\n",
       "      <td>4.4</td>\n",
       "      <td>{'latitude': 40.764116, 'longitude': -73.824724}</td>\n",
       "      <td>[pickup, restaurant_reservation, delivery]</td>\n",
       "      <td>$$$</td>\n",
       "      <td>{'address1': '141-26 Northern Blvd', 'address2...</td>\n",
       "      <td>+17182696866</td>\n",
       "      <td>(718) 269-6866</td>\n",
       "      <td>15706.481209</td>\n",
       "    </tr>\n",
       "    <tr>\n",
       "      <th>38</th>\n",
       "      <td>MGd6HFEq1ALD58XWNviSXw</td>\n",
       "      <td>time-out-market-new-york-brooklyn</td>\n",
       "      <td>Time Out Market New York</td>\n",
       "      <td>https://s3-media3.fl.yelpcdn.com/bphoto/Y41f8m...</td>\n",
       "      <td>False</td>\n",
       "      <td>https://www.yelp.com/biz/time-out-market-new-y...</td>\n",
       "      <td>558</td>\n",
       "      <td>[{'alias': 'food_court', 'title': 'Food Court'}]</td>\n",
       "      <td>4.0</td>\n",
       "      <td>{'latitude': 40.70342863348067, 'longitude': -...</td>\n",
       "      <td>[]</td>\n",
       "      <td>$$</td>\n",
       "      <td>{'address1': '55 Water St', 'address2': '', 'a...</td>\n",
       "      <td>+19178104855</td>\n",
       "      <td>(917) 810-4855</td>\n",
       "      <td>288.119008</td>\n",
       "    </tr>\n",
       "    <tr>\n",
       "      <th>39</th>\n",
       "      <td>r6r-XK_wL02FQdAgaauTxg</td>\n",
       "      <td>kame-new-york-2</td>\n",
       "      <td>Kame</td>\n",
       "      <td>https://s3-media2.fl.yelpcdn.com/bphoto/73cgvn...</td>\n",
       "      <td>False</td>\n",
       "      <td>https://www.yelp.com/biz/kame-new-york-2?adjus...</td>\n",
       "      <td>848</td>\n",
       "      <td>[{'alias': 'ramen', 'title': 'Ramen'}, {'alias...</td>\n",
       "      <td>4.5</td>\n",
       "      <td>{'latitude': 40.7474881059799, 'longitude': -7...</td>\n",
       "      <td>[pickup, delivery]</td>\n",
       "      <td>$$</td>\n",
       "      <td>{'address1': '330 8th Ave', 'address2': None, ...</td>\n",
       "      <td>+19173918587</td>\n",
       "      <td>(917) 391-8587</td>\n",
       "      <td>4679.202389</td>\n",
       "    </tr>\n",
       "  </tbody>\n",
       "</table>\n",
       "</div>"
      ],
      "text/plain": [
       "                        id                              alias  \\\n",
       "37  dUfKnUnwaYKciyoRzDBLEw              izakaya-nana-flushing   \n",
       "38  MGd6HFEq1ALD58XWNviSXw  time-out-market-new-york-brooklyn   \n",
       "39  r6r-XK_wL02FQdAgaauTxg                    kame-new-york-2   \n",
       "\n",
       "                        name  \\\n",
       "37              Izakaya Nana   \n",
       "38  Time Out Market New York   \n",
       "39                      Kame   \n",
       "\n",
       "                                            image_url  is_closed  \\\n",
       "37  https://s3-media2.fl.yelpcdn.com/bphoto/uqKmQy...      False   \n",
       "38  https://s3-media3.fl.yelpcdn.com/bphoto/Y41f8m...      False   \n",
       "39  https://s3-media2.fl.yelpcdn.com/bphoto/73cgvn...      False   \n",
       "\n",
       "                                                  url  review_count  \\\n",
       "37  https://www.yelp.com/biz/izakaya-nana-flushing...           608   \n",
       "38  https://www.yelp.com/biz/time-out-market-new-y...           558   \n",
       "39  https://www.yelp.com/biz/kame-new-york-2?adjus...           848   \n",
       "\n",
       "                                           categories  rating  \\\n",
       "37         [{'alias': 'izakaya', 'title': 'Izakaya'}]     4.4   \n",
       "38   [{'alias': 'food_court', 'title': 'Food Court'}]     4.0   \n",
       "39  [{'alias': 'ramen', 'title': 'Ramen'}, {'alias...     4.5   \n",
       "\n",
       "                                          coordinates  \\\n",
       "37   {'latitude': 40.764116, 'longitude': -73.824724}   \n",
       "38  {'latitude': 40.70342863348067, 'longitude': -...   \n",
       "39  {'latitude': 40.7474881059799, 'longitude': -7...   \n",
       "\n",
       "                                  transactions price  \\\n",
       "37  [pickup, restaurant_reservation, delivery]   $$$   \n",
       "38                                          []    $$   \n",
       "39                          [pickup, delivery]    $$   \n",
       "\n",
       "                                             location         phone  \\\n",
       "37  {'address1': '141-26 Northern Blvd', 'address2...  +17182696866   \n",
       "38  {'address1': '55 Water St', 'address2': '', 'a...  +19178104855   \n",
       "39  {'address1': '330 8th Ave', 'address2': None, ...  +19173918587   \n",
       "\n",
       "     display_phone      distance  \n",
       "37  (718) 269-6866  15706.481209  \n",
       "38  (917) 810-4855    288.119008  \n",
       "39  (917) 391-8587   4679.202389  "
      ]
     },
     "metadata": {},
     "output_type": "display_data"
    }
   ],
   "source": [
    "# Concatenate the results into one data frame\n",
    "businesses = pd.concat([ramen0, ramen20],\n",
    "                      ignore_index=True)\n",
    "display(businesses.head(3), businesses.tail(3))"
   ]
  },
  {
   "cell_type": "code",
   "execution_count": 13,
   "id": "d33486b0-a30e-460f-81aa-729771fbcace",
   "metadata": {
    "tags": []
   },
   "outputs": [],
   "source": [
    "# Save the businesses as a records-oriented JSON file with an informative filename. (df.to_json(\"yelp-search-new-york-pizza.json\", orient='records'))\n",
    "businesses.to_json(\"Data/yelp-search-new-york-ramen.json\", orient='records')"
   ]
  },
  {
   "cell_type": "code",
   "execution_count": 14,
   "id": "d834b4f3-fa6d-44aa-8167-cfaac282fece",
   "metadata": {
    "tags": []
   },
   "outputs": [
    {
     "data": {
      "text/plain": [
       "(40, 16)"
      ]
     },
     "execution_count": 14,
     "metadata": {},
     "output_type": "execute_result"
    }
   ],
   "source": [
    "businesses.shape"
   ]
  }
 ],
 "metadata": {
  "kernelspec": {
   "display_name": "Python (dojo-env)",
   "language": "python",
   "name": "dojo-env"
  },
  "language_info": {
   "codemirror_mode": {
    "name": "ipython",
    "version": 3
   },
   "file_extension": ".py",
   "mimetype": "text/x-python",
   "name": "python",
   "nbconvert_exporter": "python",
   "pygments_lexer": "ipython3",
   "version": "3.10.10"
  },
  "widgets": {
   "application/vnd.jupyter.widget-state+json": {
    "state": {},
    "version_major": 2,
    "version_minor": 0
   }
  }
 },
 "nbformat": 4,
 "nbformat_minor": 5
}
